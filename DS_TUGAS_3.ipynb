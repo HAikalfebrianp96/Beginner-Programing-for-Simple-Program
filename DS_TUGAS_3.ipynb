{
  "nbformat": 4,
  "nbformat_minor": 0,
  "metadata": {
    "colab": {
      "name": "DS_TUGAS_3.ipynb",
      "provenance": [],
      "collapsed_sections": []
    },
    "kernelspec": {
      "name": "python3",
      "display_name": "Python 3"
    },
    "language_info": {
      "name": "python"
    }
  },
  "cells": [
    {
      "cell_type": "markdown",
      "source": [
        "# **Conditional Selection and Loop**\n",
        "\n",
        "## Basic theory\n",
        "  In programming languages, there is such a thing as selection\n",
        "conditionals and loops, in a programming process, we\n",
        "requires a conditional selection and code loop\n",
        "program, for the same purpose as a programming language\n",
        "others python also has a programming syntax that is not far away\n",
        "different from other programming languages, in this module we will\n",
        "discusses if, if-else, if-elif-else for conditional selection and for\n",
        "loops are for and while. also in this Module we will\n",
        "discuss loop control, for more details let's see\n",
        "My material\n",
        "\n",
        "\n",
        "## Conditional Structure\n",
        "\n",
        "##If\n",
        "\n",
        "Used to test a condition that\n",
        "we want, how to write the syntax:\n",
        "\n",
        "\n",
        "---\n",
        "\n",
        "\n",
        "if kondisi:\n",
        "statement\n",
        "\n",
        "\n",
        "---\n",
        "\n",
        "\n",
        "Condition is a value expression to be compared, if\n",
        "condition is True then the statement will be executed, and\n",
        "If the condition evaluates to False then the statement is not\n",
        "will run.\n",
        "\n",
        "\n",
        "The program above will determine we will be declared pass\n",
        "Cumlaude or not from the IP value we have with\n",
        "condition if the IP value is more than equal to 3.5.\n",
        "\n",
        "## **if-else**\n",
        "\n",
        "We can determine what to do if\n",
        "these conditions are not met by using the keyword\n",
        "else. The form of writing is:\n",
        "\n",
        "\n",
        "\n",
        "---\n",
        "if kondisi :\n",
        "statement “true”\n",
        "else :\n",
        "statement “act\"\n",
        "\n",
        "\n",
        "---\n",
        "From the two pictures above, the thing that sets them apart is\n",
        "Graduated with Cumlaude or Passed ordinary, whichever when\n",
        "the ip variable has a value less than 3.5 it will appear\n",
        "output \"You Passed with an IP of 3.2\", but if\n",
        "ip variable has a value greater than equal to 3.5 then it will be\n",
        "the output appears \"Congratulations You Passed Cumlaude with IP\"\n",
        "By 3.5\".\n",
        "\n",
        "## **If-elif-else**\n",
        "Apabila kita ingin membuat program lebih dari satu kondisi \n",
        "kita bisamenggunakan elif, sintaks penulisannya:\n",
        "\n",
        "\n",
        "---\n",
        "\n",
        "if kondisi1:\n",
        "statement 1“true1”\n",
        "elif kondisi2:\n",
        "statement2 “true2”\n",
        " else :\n",
        " statement\n",
        "\n",
        "\n",
        "---\n",
        "The if-elif-else conditional selection is used to check\n",
        "several conditions. Widely used for a\n",
        "program with many conditions/conditions. Statement2 will\n",
        "executed if condition1 is not met and condition2 is met.\n",
        "If all conditions are not met, the program will\n",
        "execute the else statement.\n",
        "\n",
        "\n",
        "\n"
      ],
      "metadata": {
        "id": "Gxz_7Xkd_at8"
      }
    },
    {
      "cell_type": "code",
      "source": [
        "ip = float(input(\"Enter your IP value\"))\n",
        "if ip >= 3.5:\n",
        "  print(\"congrats you passed cumlaude with an ip of\", ip)\n",
        "print(\"good luck..\")"
      ],
      "metadata": {
        "colab": {
          "base_uri": "https://localhost:8080/"
        },
        "id": "nfkZ6Ql2rN7f",
        "outputId": "ff80726b-0ccf-44a9-85f8-c2e0ea1ddcc6"
      },
      "execution_count": null,
      "outputs": [
        {
          "output_type": "stream",
          "name": "stdout",
          "text": [
            "Enter your IP value2.0\n",
            "semagat terus ya..\n"
          ]
        }
      ]
    },
    {
      "cell_type": "code",
      "source": [
        "ip = float(input(\"Enter your IP value\"))\n",
        "if ip >= 3.5:\n",
        "  print(\"congrats you passed cumlaude with an ip of\", ip)\n",
        "else:\n",
        "  print(\"you pass with an ip of\",ip)\n",
        "print(\"good luck..\")"
      ],
      "metadata": {
        "id": "wClbg_3nr8cm"
      },
      "execution_count": null,
      "outputs": []
    },
    {
      "cell_type": "code",
      "source": [
        "ip = float(input(\"Enter your IP value:\"))\n",
        "if ip < 1.5:\n",
        "  print(\"you did not pass\")\n",
        "elif ip < 3.5:\n",
        "  print(\"congrats you graduated with an ip of\",ip)\n",
        "else:\n",
        "  print(\"Congratulations you passed cum laude with an IP of\",ip)\n",
        "print(\"good luck..\")"
      ],
      "metadata": {
        "id": "9J6XClz5s3l2"
      },
      "execution_count": null,
      "outputs": []
    },
    {
      "cell_type": "markdown",
      "source": [
        "\n",
        "## **loop**\n",
        "\n",
        "Looping data or commonly called looping is\n",
        "a process that is carried out repeatedly until the limit\n",
        "which is determined. The loop structure is used for\n",
        "repeats a set of commands according to the conditions\n",
        "given. Some examples of loops in Python are:\n",
        "\n",
        "### **For**\n",
        "\n",
        "Loop structure commonly used to repeat\n",
        "a process with a known number of iterations.\n",
        "This loop statement is the most frequently used. Format\n",
        "writing is as follows:\n",
        "\n",
        "\n",
        "---\n",
        "for …(1) in …(2):\n",
        "\n",
        "---\n",
        "\n",
        "explanation:\n",
        "1 as iterator variable (repeat) and 2 as limit\n",
        "repetition\n"
      ],
      "metadata": {
        "id": "3CUOlEKLB_o6"
      }
    },
    {
      "cell_type": "code",
      "source": [
        "dary=[\"wake up\",\"eat\",\"repeat\",\"code\"]\n",
        "for item in dary:\n",
        "  print(dary)\n",
        "for x in range (4):\n",
        "  print(x)"
      ],
      "metadata": {
        "colab": {
          "base_uri": "https://localhost:8080/"
        },
        "id": "jgxo0exrw6Xx",
        "outputId": "abf3a3af-bf1c-4245-cf96-b99fc5b836b8"
      },
      "execution_count": null,
      "outputs": [
        {
          "output_type": "stream",
          "name": "stdout",
          "text": [
            "['wake up', 'eat', 'repeat', 'code']\n",
            "['wake up', 'eat', 'repeat', 'code']\n",
            "['wake up', 'eat', 'repeat', 'code']\n",
            "['wake up', 'eat', 'repeat', 'code']\n",
            "0\n",
            "1\n",
            "2\n",
            "3\n"
          ]
        }
      ]
    },
    {
      "cell_type": "code",
      "source": [
        "for y in range(5):\n",
        "  print(\"Good\")"
      ],
      "metadata": {
        "colab": {
          "base_uri": "https://localhost:8080/"
        },
        "id": "E_PEwUCz-Oka",
        "outputId": "f1ec650e-dd29-4955-d1dc-ec61348cfcf8"
      },
      "execution_count": null,
      "outputs": [
        {
          "output_type": "stream",
          "name": "stdout",
          "text": [
            "Good\n",
            "Good\n",
            "Good\n",
            "Good\n",
            "Good\n"
          ]
        }
      ]
    },
    {
      "cell_type": "code",
      "source": [
        "for i in range(3,12,3):\n",
        "    print(i)"
      ],
      "metadata": {
        "colab": {
          "base_uri": "https://localhost:8080/"
        },
        "id": "xLP8vJav9tmN",
        "outputId": "7f88ceb8-327d-4dce-a983-6add8cc07f16"
      },
      "execution_count": null,
      "outputs": [
        {
          "output_type": "stream",
          "name": "stdout",
          "text": [
            "3\n",
            "6\n",
            "9\n"
          ]
        }
      ]
    },
    {
      "cell_type": "code",
      "source": [
        "for i in range(2,8):\n",
        "    print(i)"
      ],
      "metadata": {
        "colab": {
          "base_uri": "https://localhost:8080/"
        },
        "id": "FVmmp3j1-nPl",
        "outputId": "55e672d7-3781-4db7-9bc9-50ff5678846e"
      },
      "execution_count": null,
      "outputs": [
        {
          "output_type": "stream",
          "name": "stdout",
          "text": [
            "2\n",
            "3\n",
            "4\n",
            "5\n",
            "6\n",
            "7\n"
          ]
        }
      ]
    },
    {
      "cell_type": "markdown",
      "source": [
        "#**BOOLEAN OPERATOR**"
      ],
      "metadata": {
        "id": "fUYEv9U1_tCe"
      }
    },
    {
      "cell_type": "markdown",
      "source": [
        "**AND**"
      ],
      "metadata": {
        "id": "A7SqrMEa_ugq"
      }
    },
    {
      "cell_type": "markdown",
      "source": [
        "AND— Returns True if both statements are true otherwise false\n",
        "- x AND y will return false if x is false or a function that returns y false."
      ],
      "metadata": {
        "id": "8cJ2MCtM_zpU"
      }
    },
    {
      "cell_type": "code",
      "source": [
        "X= True\n",
        "Y= True\n",
        "X and Y"
      ],
      "metadata": {
        "id": "3Haj6H2l_iz2"
      },
      "execution_count": null,
      "outputs": []
    },
    {
      "cell_type": "code",
      "source": [
        "Naik_motor = True\n",
        "Pakai_helm = True\n",
        "Tidak_membawa_surat =False\n",
        "Membawa_muatan_berlebih = False\n",
        "print(Naik_motor and Pakai_helm)"
      ],
      "metadata": {
        "id": "Q5U1Dm40__ia"
      },
      "execution_count": null,
      "outputs": []
    },
    {
      "cell_type": "code",
      "source": [
        "print(Naik_motor and Tidak_membawa_surat)"
      ],
      "metadata": {
        "id": "vK7znuYyAD6G"
      },
      "execution_count": null,
      "outputs": []
    },
    {
      "cell_type": "markdown",
      "source": [
        "if it has the same variable value then the output that comes out will be the same, like the following:\n",
        "\n",
        "\n",
        "if it has a different variable value then the output that comes out will be opposite to the first variable, as follows"
      ],
      "metadata": {
        "id": "pMCrBuIcAIrW"
      }
    },
    {
      "cell_type": "code",
      "source": [
        "**OR**\n",
        "\n",
        "OR—either term (or both) will be in the returned document\n",
        "\n",
        "x or y, then the value will return true."
      ],
      "metadata": {
        "id": "Tivf7GRUASXC"
      },
      "execution_count": null,
      "outputs": []
    },
    {
      "cell_type": "code",
      "source": [
        "X= True\n",
        "Y= False\n",
        "X or Y"
      ],
      "metadata": {
        "id": "g9XXVgqtAb_K"
      },
      "execution_count": null,
      "outputs": []
    },
    {
      "cell_type": "code",
      "source": [
        "Membuang_sampah_ditempatnya = True\n",
        "Menjaga_lingkungan = True\n",
        "Membakar_sampah = False\n",
        "Membuang_sampah_sembarangan = False"
      ],
      "metadata": {
        "id": "JC-UUuXMAhZq"
      },
      "execution_count": null,
      "outputs": []
    },
    {
      "cell_type": "code",
      "source": [
        "print(Membuang_sampah_ditempatnya or Menjaga_lingkungan)"
      ],
      "metadata": {
        "id": "bt0YBGKvAiAU"
      },
      "execution_count": null,
      "outputs": []
    },
    {
      "cell_type": "code",
      "source": [
        "print(Membuang_sampah_ditempatnya or Membakar_sampah)"
      ],
      "metadata": {
        "id": "grz_Wz2DAkmt"
      },
      "execution_count": null,
      "outputs": []
    },
    {
      "cell_type": "code",
      "source": [
        "print(Membuang_sampah_sembarangan or Membakar_sampah)"
      ],
      "metadata": {
        "id": "qDW_rmlaAl1c"
      },
      "execution_count": null,
      "outputs": []
    },
    {
      "cell_type": "markdown",
      "source": [
        "**NOT**\n",
        "\n",
        "- IF X TRUE, THE FUNCTION WILL RETURN FALSE.\n",
        "- IF Y FALSE, IT WILL RETURN TRUE"
      ],
      "metadata": {
        "id": "AO-RCuJtAoP1"
      }
    },
    {
      "cell_type": "code",
      "source": [
        "x = 5\n",
        "not x < 10\n",
        "False\n",
        "not callable(x)\n",
        "True"
      ],
      "metadata": {
        "id": "J5tDdQxsAm0m"
      },
      "execution_count": null,
      "outputs": []
    },
    {
      "cell_type": "code",
      "source": [
        "X= True\n",
        "Y= False\n",
        "not x\n"
      ],
      "metadata": {
        "id": "yiX-LfTDAzwj"
      },
      "execution_count": null,
      "outputs": []
    },
    {
      "cell_type": "code",
      "source": [
        "not y"
      ],
      "metadata": {
        "id": "9zgsmqPdA-Q1"
      },
      "execution_count": null,
      "outputs": []
    },
    {
      "cell_type": "markdown",
      "source": [
        "#**Arithmetic operations**\n",
        "\n",
        "1. operator are special symbols in Python that carry out arithmetic or logical computation\n",
        "2. operands is The value that the operator operates on\n",
        "3. expression is a combination of operators and operands that is interpreted to produce some other value"
      ],
      "metadata": {
        "id": "PiqwhITvBCec"
      }
    },
    {
      "cell_type": "code",
      "source": [
        "O=150\n",
        "P=20\n",
        "Q=100\n",
        "R= 3\n",
        "Q+P+O"
      ],
      "metadata": {
        "colab": {
          "base_uri": "https://localhost:8080/"
        },
        "id": "TxwohYr-BARP",
        "outputId": "4982e9f8-83ec-4a88-857b-cfbc8d829c1e"
      },
      "execution_count": null,
      "outputs": [
        {
          "output_type": "execute_result",
          "data": {
            "text/plain": [
              "270"
            ]
          },
          "metadata": {},
          "execution_count": 1
        }
      ]
    },
    {
      "cell_type": "code",
      "source": [
        "\"word\"+\"you\""
      ],
      "metadata": {
        "id": "Qs_11aDgBRVe"
      },
      "execution_count": null,
      "outputs": []
    },
    {
      "cell_type": "code",
      "source": [
        "12.1+12"
      ],
      "metadata": {
        "id": "rwJP4IvABV2J"
      },
      "execution_count": null,
      "outputs": []
    },
    {
      "cell_type": "code",
      "source": [
        "print(\"you\",2)"
      ],
      "metadata": {
        "id": "UZgYy-ZwBXnL"
      },
      "execution_count": null,
      "outputs": []
    },
    {
      "cell_type": "code",
      "source": [
        "[3,90]+[3,17]"
      ],
      "metadata": {
        "id": "fSE8FEmpBcDE"
      },
      "execution_count": null,
      "outputs": []
    },
    {
      "cell_type": "code",
      "source": [
        "[3,9]+[7]"
      ],
      "metadata": {
        "id": "O27l722KBdYy"
      },
      "execution_count": null,
      "outputs": []
    },
    {
      "cell_type": "code",
      "source": [
        "(3,90)+(9,2)"
      ],
      "metadata": {
        "id": "ReJJL9PlBeqq"
      },
      "execution_count": null,
      "outputs": []
    },
    {
      "cell_type": "code",
      "source": [
        "gg ={\"key\":\"value\" ,\"simple\":\"desire\"}\n",
        "bb ={\"exple\":\"run\"}\n",
        "if \"key\" in gg:\n",
        "    print(\"this will value\",bb)\n",
        "\n",
        "if \"simple\" in gg:\n",
        "    print(\"this desire\")\n",
        "\n",
        "else:\n",
        "  print(\"nothing\")"
      ],
      "metadata": {
        "id": "fFfyrNTSBf0P"
      },
      "execution_count": null,
      "outputs": []
    },
    {
      "cell_type": "markdown",
      "source": [
        "from little experiment above, we know addition can work  for a lot different data type except dictionary and set. addition works different way in different data type\n",
        "1. addition in string mean merge between string like we see above\n",
        "2. addition in numeric mean addition in matematic\n",
        "3. addition in list mean adding another list to other list to become one list\n",
        "4. addition in tuple mean adding another tuple to other tuple to become one tuple\n",
        "\n",
        "note: addition only possible between same data type and for numeric case as long same numeric data type it possible to use addition function so it possible to use addition between float,integer and complex"
      ],
      "metadata": {
        "id": "_MyzSxZkBjjP"
      }
    },
    {
      "cell_type": "markdown",
      "source": [
        "**Subtraction** (-)\n",
        "- \tP subtracted from Q"
      ],
      "metadata": {
        "id": "T3aKgJqbBqIq"
      }
    },
    {
      "cell_type": "markdown",
      "source": [
        "#**Sort mathematically in evaluating**\n",
        "\n",
        "if question :\n",
        "- 1+1 *0\n",
        "- 50+8 * 20+10-8/3*7+5^8\n",
        "- Tips: use parentheses for easy readability and ensure proper order\n",
        "\n",
        "\n",
        "**Modulus** (%)\n",
        "\n",
        "*  returns the remainder of dividing two numbers.\n",
        "\n",
        "\n",
        "\n",
        "**multiplication**\n",
        "\n",
        "multiplication only possible for some data type and must to be multiplication with integer data type for non numeric combination. if between numeric data type no problem occur. different combination make different output\n",
        "1. string with integer = repeat string based on integer number\n",
        "2. numeric data type multiplication = same as matematic multiplication\n",
        "3. list with integer = repeating sequence based on integer number and make it in one list\n",
        "4. tuple with integer = repeating sequance based on integer number and make it in one tuple"
      ],
      "metadata": {
        "id": "1xCs8vIrB8Oi"
      }
    },
    {
      "cell_type": "code",
      "source": [
        "Q/P"
      ],
      "metadata": {
        "id": "KuYZPzruCiNs"
      },
      "execution_count": null,
      "outputs": []
    },
    {
      "cell_type": "code",
      "source": [
        "P**R"
      ],
      "metadata": {
        "id": "TSsKmA1RClVg"
      },
      "execution_count": null,
      "outputs": []
    },
    {
      "cell_type": "code",
      "source": [
        "10//3"
      ],
      "metadata": {
        "id": "-x4ZLKswCnbA"
      },
      "execution_count": null,
      "outputs": []
    },
    {
      "cell_type": "code",
      "source": [
        "10%3"
      ],
      "metadata": {
        "id": "73GfKMsJCo8g"
      },
      "execution_count": null,
      "outputs": []
    },
    {
      "cell_type": "code",
      "source": [
        "1+(1*0)"
      ],
      "metadata": {
        "id": "mNhp0keJCDhL"
      },
      "execution_count": null,
      "outputs": []
    },
    {
      "cell_type": "code",
      "source": [
        "(1+1)*0"
      ],
      "metadata": {
        "id": "wm5cif46CFP4"
      },
      "execution_count": null,
      "outputs": []
    },
    {
      "cell_type": "code",
      "source": [
        "50+(8*20)+10-((8/3)*7)+(5**8)"
      ],
      "metadata": {
        "id": "lrt04aMpCHO9"
      },
      "execution_count": null,
      "outputs": []
    },
    {
      "cell_type": "code",
      "source": [
        "50+(8*20)+10-8/(3*7)+(5^8)"
      ],
      "metadata": {
        "id": "fPAXcpXLCHYC"
      },
      "execution_count": null,
      "outputs": []
    },
    {
      "cell_type": "markdown",
      "source": [
        "### **FORMAT STRING**"
      ],
      "metadata": {
        "id": "t0BzN6CdEcg2"
      }
    },
    {
      "cell_type": "code",
      "source": [
        "a = 23\n",
        "str(a).zfill(4) #the number 0 there are only two because the specified length is only four"
      ],
      "metadata": {
        "id": "_Bji2LOeECsx"
      },
      "execution_count": null,
      "outputs": []
    },
    {
      "cell_type": "code",
      "source": [
        "b = 2.45\n",
        "str(b).zfill(6)"
      ],
      "metadata": {
        "id": "RL_X4fAKFBqN"
      },
      "execution_count": null,
      "outputs": []
    },
    {
      "cell_type": "code",
      "source": [
        "c = \"Data Science\"\n",
        "str(c).zfill(15)"
      ],
      "metadata": {
        "id": "zfNdlXShFE0m"
      },
      "execution_count": null,
      "outputs": []
    },
    {
      "cell_type": "code",
      "source": [
        "\"Data Science\".ljust(20,\"*\")"
      ],
      "metadata": {
        "id": "4DMMqvDqFJGa"
      },
      "execution_count": null,
      "outputs": []
    },
    {
      "cell_type": "markdown",
      "source": [
        "The rjust() method will right align the string, using a specified character (space is default) as the fill character"
      ],
      "metadata": {
        "id": "Q07CUNpZFO9N"
      }
    },
    {
      "cell_type": "code",
      "source": [
        "\"Data Science\".rjust(20,\"*\")"
      ],
      "metadata": {
        "id": "NIQWgAHPFMEE"
      },
      "execution_count": null,
      "outputs": []
    },
    {
      "cell_type": "markdown",
      "source": [
        "center() method will center align the string, using a specified character (space is default) as the fill character"
      ],
      "metadata": {
        "id": "yPFoYRS_FSQY"
      }
    },
    {
      "cell_type": "code",
      "source": [
        "\"Data Science\".center(20,\"*\")"
      ],
      "metadata": {
        "id": "mhBm4qSlFVCg"
      },
      "execution_count": null,
      "outputs": []
    },
    {
      "cell_type": "code",
      "source": [
        "a = \"\"\"I\\neat\\nwant?\"\"\".ljust(20,\"*\")\n",
        "print(a)"
      ],
      "metadata": {
        "colab": {
          "base_uri": "https://localhost:8080/"
        },
        "id": "QnwLWzXjFaLW",
        "outputId": "17f9f8cb-98a9-40b8-e28f-4c7491d5749a"
      },
      "execution_count": null,
      "outputs": [
        {
          "output_type": "stream",
          "name": "stdout",
          "text": [
            "I\n",
            "eat\n",
            "want?*********\n"
          ]
        }
      ]
    },
    {
      "cell_type": "code",
      "source": [
        "c = \"\"\"I\\n\\want?\"\"\".center(20,\"*\")\n",
        "print(c)"
      ],
      "metadata": {
        "id": "SMYf67u8FmIx"
      },
      "execution_count": null,
      "outputs": []
    },
    {
      "cell_type": "markdown",
      "source": [
        "String manipulation using backslash(\\\\). We can use the backslash character (\\) to escape characters that can break the string and make the syntax error."
      ],
      "metadata": {
        "id": "fXf7TsM4OASH"
      }
    },
    {
      "cell_type": "markdown",
      "source": [
        "# input and output"
      ],
      "metadata": {
        "id": "-pIAIXxV36VG"
      }
    },
    {
      "cell_type": "markdown",
      "source": [
        "1. input() is one python build in function to reads a line from the input (usually from the user), converts the line into a string by removing the trailing newline, and returns it\n",
        "2. the output function print() is used to display the result of the program on the screen after execution"
      ],
      "metadata": {
        "id": "GkCZqI3F38Jy"
      }
    },
    {
      "cell_type": "markdown",
      "source": [
        "> input type data"
      ],
      "metadata": {
        "id": "Ppife7RG4A9v"
      }
    },
    {
      "cell_type": "code",
      "source": [
        "b=input()\n",
        "print(type(b))"
      ],
      "metadata": {
        "id": "s5l2xQMgFoth"
      },
      "execution_count": null,
      "outputs": []
    },
    {
      "cell_type": "markdown",
      "source": [
        "input type data will be always string unless convert to other type data\n",
        "\n",
        "> 4 ways to display data using print function"
      ],
      "metadata": {
        "id": "IGMoltfW4G7y"
      }
    },
    {
      "cell_type": "code",
      "source": [
        "a=input(\"input your name=\")\n",
        "b=22\n",
        "print(\"halo %s %i\"%(a,b))"
      ],
      "metadata": {
        "id": "aO5gFTWp4ESt"
      },
      "execution_count": null,
      "outputs": []
    },
    {
      "cell_type": "code",
      "source": [
        "a=input(\"input your name=\")\n",
        "b=22\n",
        "print(\"halo {} umur {} tahun\".format(a,b))"
      ],
      "metadata": {
        "id": "mj1fDarl4Mxg"
      },
      "execution_count": null,
      "outputs": []
    },
    {
      "cell_type": "code",
      "source": [
        "a=input(\"input your name=\")\n",
        "print(f\"halo {a}\")"
      ],
      "metadata": {
        "id": "iG_mxJ9C4POx"
      },
      "execution_count": null,
      "outputs": []
    },
    {
      "cell_type": "code",
      "source": [
        "a=input(\"input your name=\")\n",
        "print(\"halo\",a)"
      ],
      "metadata": {
        "id": "iqvdL5S44Pbc"
      },
      "execution_count": null,
      "outputs": []
    },
    {
      "cell_type": "markdown",
      "source": [
        ">display formula as it is\n",
        "\n",
        "how its output should be"
      ],
      "metadata": {
        "id": "W4LUhFZW4Tms"
      }
    },
    {
      "cell_type": "code",
      "source": [
        "print(\"it's a happy day for me. \\ntoday, we're going to bioskop to watch newest film\")"
      ],
      "metadata": {
        "id": "ZybAzF7B4Rsn"
      },
      "execution_count": null,
      "outputs": []
    },
    {
      "cell_type": "markdown",
      "source": [
        "with r before \" we can make \\n to come out as output"
      ],
      "metadata": {
        "id": "2SqQ1GFe4b_O"
      }
    },
    {
      "cell_type": "code",
      "source": [
        "print(r\"it's a happy day for me. \\ntoday, we're going to bioskop to watch newest film\")"
      ],
      "metadata": {
        "id": "q4vlOcm_4efk"
      },
      "execution_count": null,
      "outputs": []
    }
  ]
}