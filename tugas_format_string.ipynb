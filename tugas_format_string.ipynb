{
  "nbformat": 4,
  "nbformat_minor": 0,
  "metadata": {
    "colab": {
      "name": "tugas format string.ipynb",
      "provenance": [],
      "collapsed_sections": []
    },
    "kernelspec": {
      "name": "python3",
      "display_name": "Python 3"
    },
    "language_info": {
      "name": "python"
    }
  },
  "cells": [
    {
      "cell_type": "markdown",
      "source": [
        "zfill() is an method to adds zeros (0) at the beginning of the string, until it reaches the specified length"
      ],
      "metadata": {
        "id": "hc6FSSPnpp3W"
      }
    },
    {
      "cell_type": "code",
      "source": [
        "a = 23"
      ],
      "metadata": {
        "id": "J-SRwk9UqhJg"
      },
      "execution_count": null,
      "outputs": []
    },
    {
      "cell_type": "code",
      "source": [
        "str(a).zfill(4) #angka 0 hanya ada dua karena panjang yang ditentukan hanya empat"
      ],
      "metadata": {
        "colab": {
          "base_uri": "https://localhost:8080/",
          "height": 35
        },
        "id": "4NyNVLAFqhRh",
        "outputId": "59b41df5-5d6a-4af0-ee56-6d2baea439ee"
      },
      "execution_count": null,
      "outputs": [
        {
          "output_type": "execute_result",
          "data": {
            "text/plain": [
              "'0023'"
            ],
            "application/vnd.google.colaboratory.intrinsic+json": {
              "type": "string"
            }
          },
          "metadata": {},
          "execution_count": 2
        }
      ]
    },
    {
      "cell_type": "code",
      "source": [
        "b = 2.45"
      ],
      "metadata": {
        "id": "UrwlDq3fqhWu"
      },
      "execution_count": null,
      "outputs": []
    },
    {
      "cell_type": "code",
      "source": [
        "str(b).zfill(6)"
      ],
      "metadata": {
        "colab": {
          "base_uri": "https://localhost:8080/",
          "height": 35
        },
        "id": "VcldoALzqhei",
        "outputId": "b439a54b-dbd7-4108-c6cd-1fb02ffdc104"
      },
      "execution_count": null,
      "outputs": [
        {
          "output_type": "execute_result",
          "data": {
            "text/plain": [
              "'002.45'"
            ],
            "application/vnd.google.colaboratory.intrinsic+json": {
              "type": "string"
            }
          },
          "metadata": {},
          "execution_count": 4
        }
      ]
    },
    {
      "cell_type": "code",
      "source": [
        "c = \"Data Science\""
      ],
      "metadata": {
        "id": "i5Hxb1noqhka"
      },
      "execution_count": null,
      "outputs": []
    },
    {
      "cell_type": "code",
      "source": [
        "str(c).zfill(15)"
      ],
      "metadata": {
        "colab": {
          "base_uri": "https://localhost:8080/",
          "height": 35
        },
        "id": "Svl5j9y9ruh7",
        "outputId": "245b31b6-07f4-4f75-8d27-968c2d441140"
      },
      "execution_count": null,
      "outputs": [
        {
          "output_type": "execute_result",
          "data": {
            "text/plain": [
              "'000Data Science'"
            ],
            "application/vnd.google.colaboratory.intrinsic+json": {
              "type": "string"
            }
          },
          "metadata": {},
          "execution_count": 7
        }
      ]
    },
    {
      "cell_type": "markdown",
      "source": [
        "ljust() has the function of creating a left-aligned string and making the rest of the padding to the right according to the entered length and can include a fillchar char (default is a space) while rjust() is the opposite of ljust().\n",
        "center() has the function of aligning the string according to the specified width and filling the remaining line space with blank spaces if the 'fillchr' argument is not passed.\n"
      ],
      "metadata": {
        "id": "iPg76LvksqUZ"
      }
    },
    {
      "cell_type": "code",
      "source": [
        "\"Data Science\".ljust(20,\"*\")"
      ],
      "metadata": {
        "colab": {
          "base_uri": "https://localhost:8080/",
          "height": 35
        },
        "id": "Wp-4_bIRrumA",
        "outputId": "b7457926-bced-4c2f-d8a4-f3f099dfdd04"
      },
      "execution_count": null,
      "outputs": [
        {
          "output_type": "execute_result",
          "data": {
            "text/plain": [
              "'Data Science********'"
            ],
            "application/vnd.google.colaboratory.intrinsic+json": {
              "type": "string"
            }
          },
          "metadata": {},
          "execution_count": 12
        }
      ]
    },
    {
      "cell_type": "markdown",
      "source": [
        "The rjust() method will right align the string, using a specified character (space is default) as the fill character"
      ],
      "metadata": {
        "id": "4rvfkF8b3iHw"
      }
    },
    {
      "cell_type": "code",
      "source": [
        "\"Data Science\".rjust(20,\"*\")"
      ],
      "metadata": {
        "colab": {
          "base_uri": "https://localhost:8080/",
          "height": 35
        },
        "id": "Gt1fnHOguyX5",
        "outputId": "e7a387c3-b565-4619-e64d-5b737440365b"
      },
      "execution_count": null,
      "outputs": [
        {
          "output_type": "execute_result",
          "data": {
            "text/plain": [
              "'********Data Science'"
            ],
            "application/vnd.google.colaboratory.intrinsic+json": {
              "type": "string"
            }
          },
          "metadata": {},
          "execution_count": 13
        }
      ]
    },
    {
      "cell_type": "markdown",
      "source": [
        "center() method will center align the string, using a specified character (space is default) as the fill character"
      ],
      "metadata": {
        "id": "I8YAcsB23stQ"
      }
    },
    {
      "cell_type": "code",
      "source": [
        "\"Data Science\".center(20,\"*\")"
      ],
      "metadata": {
        "colab": {
          "base_uri": "https://localhost:8080/",
          "height": 35
        },
        "id": "e_OHy20NuyeT",
        "outputId": "2d5433b2-d579-4099-af83-2fc23e2080ed"
      },
      "execution_count": null,
      "outputs": [
        {
          "output_type": "execute_result",
          "data": {
            "text/plain": [
              "'****Data Science****'"
            ],
            "application/vnd.google.colaboratory.intrinsic+json": {
              "type": "string"
            }
          },
          "metadata": {},
          "execution_count": 14
        }
      ]
    },
    {
      "cell_type": "code",
      "source": [
        "a = \"\"\"Saya\\nMakan\\napa?\"\"\".ljust(20,\"*\")"
      ],
      "metadata": {
        "id": "utCdSSqOuyk7"
      },
      "execution_count": null,
      "outputs": []
    },
    {
      "cell_type": "code",
      "source": [
        "print(a)"
      ],
      "metadata": {
        "colab": {
          "base_uri": "https://localhost:8080/"
        },
        "id": "eYrjP4bDuypL",
        "outputId": "c2c7e1c8-59da-4a6c-b742-9aee2229e607"
      },
      "execution_count": null,
      "outputs": [
        {
          "output_type": "stream",
          "name": "stdout",
          "text": [
            "Saya\n",
            "Makan\n",
            "apa******\n"
          ]
        }
      ]
    },
    {
      "cell_type": "code",
      "source": [
        "b = \"\"\"Saya\\nMakan\\napa?\"\"\".rjust(20,\"*\")"
      ],
      "metadata": {
        "id": "m73Ruoa6rurR"
      },
      "execution_count": null,
      "outputs": []
    },
    {
      "cell_type": "code",
      "source": [
        "print(b)"
      ],
      "metadata": {
        "colab": {
          "base_uri": "https://localhost:8080/"
        },
        "id": "XZTLJtKI0fFs",
        "outputId": "789ec10c-939d-4f80-99ae-a19d462002b7"
      },
      "execution_count": null,
      "outputs": [
        {
          "output_type": "stream",
          "name": "stdout",
          "text": [
            "*****Saya\n",
            "Makan\n",
            "apa?\n"
          ]
        }
      ]
    },
    {
      "cell_type": "code",
      "source": [
        "c = \"\"\"Saya\\nMakan\\napa?\"\"\".center(20,\"*\")"
      ],
      "metadata": {
        "id": "PxSUk8iC0fKb"
      },
      "execution_count": null,
      "outputs": []
    },
    {
      "cell_type": "code",
      "source": [
        "print(c)"
      ],
      "metadata": {
        "colab": {
          "base_uri": "https://localhost:8080/"
        },
        "id": "h3lYnXk70fPS",
        "outputId": "03eb7dbf-dd39-41cf-d5d0-bf1d90b16cc6"
      },
      "execution_count": null,
      "outputs": [
        {
          "output_type": "stream",
          "name": "stdout",
          "text": [
            "**Saya\n",
            "Makan\n",
            "apa?***\n"
          ]
        }
      ]
    },
    {
      "cell_type": "markdown",
      "source": [
        "String manipulation using backslash(\\\\). We can use the backslash character (\\) to escape characters that can break the string and make the syntax error."
      ],
      "metadata": {
        "id": "4Wi2av8y1Qjd"
      }
    },
    {
      "cell_type": "code",
      "source": [
        "'This is My Cousin\\'s House'"
      ],
      "metadata": {
        "colab": {
          "base_uri": "https://localhost:8080/",
          "height": 35
        },
        "id": "8eOdurGE0fT7",
        "outputId": "6b8d5a07-c749-4166-9761-165c3bc48509"
      },
      "execution_count": null,
      "outputs": [
        {
          "output_type": "execute_result",
          "data": {
            "text/plain": [
              "\"This is My Cousin's House\""
            ],
            "application/vnd.google.colaboratory.intrinsic+json": {
              "type": "string"
            }
          },
          "metadata": {},
          "execution_count": 28
        }
      ]
    },
    {
      "cell_type": "markdown",
      "source": [
        "raw string will display the string according to what is input"
      ],
      "metadata": {
        "id": "VcCnB2EE2tub"
      }
    },
    {
      "cell_type": "code",
      "source": [
        "a = r'This is My Cousin\\'s House'"
      ],
      "metadata": {
        "id": "pfp0tp9M2hMw"
      },
      "execution_count": null,
      "outputs": []
    },
    {
      "cell_type": "code",
      "source": [
        "print(a)"
      ],
      "metadata": {
        "colab": {
          "base_uri": "https://localhost:8080/"
        },
        "id": "c82VXXoR0fYY",
        "outputId": "efa50816-998f-4a28-adc9-ddbdc7ab1ad0"
      },
      "execution_count": null,
      "outputs": [
        {
          "output_type": "stream",
          "name": "stdout",
          "text": [
            "This is My Cousin\\'s House\n"
          ]
        }
      ]
    },
    {
      "cell_type": "code",
      "source": [
        "print(r'Don\\'t You Dare')"
      ],
      "metadata": {
        "colab": {
          "base_uri": "https://localhost:8080/"
        },
        "id": "JeArQVbK0fbh",
        "outputId": "bd59ff51-1708-4668-d510-c8ffa3ec576e"
      },
      "execution_count": null,
      "outputs": [
        {
          "output_type": "stream",
          "name": "stdout",
          "text": [
            "Don\\'t You Dare\n"
          ]
        }
      ]
    },
    {
      "cell_type": "markdown",
      "source": [
        "assign values to multiple variables"
      ],
      "metadata": {
        "id": "dbJ8UhC43MIr"
      }
    },
    {
      "cell_type": "code",
      "source": [
        "devilfruit=[\"Gomu Gomu No Mi\",\"Tori Tori No Mi\",\"Mera Mera No Mi\"]\n",
        "print(devilfruit)"
      ],
      "metadata": {
        "colab": {
          "base_uri": "https://localhost:8080/"
        },
        "id": "lR75tJzQ25v_",
        "outputId": "812b73a2-f346-4bdd-e1e5-f5bf34186fbf"
      },
      "execution_count": null,
      "outputs": [
        {
          "output_type": "stream",
          "name": "stdout",
          "text": [
            "['Gomu Gomu No Mi', 'Tori Tori No Mi', 'Mera Mera No Mi']\n"
          ]
        }
      ]
    },
    {
      "cell_type": "code",
      "source": [
        "paramecia=devilfruit[0]\n",
        "zoan = devilfruit[1]\n",
        "logia = devilfruit[2]"
      ],
      "metadata": {
        "id": "VWJYX0Dw25z8"
      },
      "execution_count": null,
      "outputs": []
    },
    {
      "cell_type": "code",
      "source": [
        "print(paramecia)\n",
        "print(zoan)\n",
        "print(logia)"
      ],
      "metadata": {
        "colab": {
          "base_uri": "https://localhost:8080/"
        },
        "id": "DcWV6J-v258s",
        "outputId": "d4335b30-a089-43ee-e24e-d848ad164371"
      },
      "execution_count": null,
      "outputs": [
        {
          "output_type": "stream",
          "name": "stdout",
          "text": [
            "Gomu Gomu No Mi\n",
            "Tori Tori No Mi\n",
            "Mera Mera No Mi\n"
          ]
        }
      ]
    },
    {
      "cell_type": "code",
      "source": [
        "a=\"marco\"\n",
        "l=a[1:4]\n",
        "a=a[0]\n",
        "print(l,a)"
      ],
      "metadata": {
        "colab": {
          "base_uri": "https://localhost:8080/"
        },
        "id": "m80__6j6CXvG",
        "outputId": "ada4c35b-980f-4576-b8c9-aac17cdf092c"
      },
      "execution_count": 12,
      "outputs": [
        {
          "output_type": "stream",
          "name": "stdout",
          "text": [
            "arc m\n"
          ]
        }
      ]
    },
    {
      "cell_type": "markdown",
      "source": [
        "there is a second way to fill in the value of multiple variables"
      ],
      "metadata": {
        "id": "240s--XF34Tr"
      }
    },
    {
      "cell_type": "code",
      "source": [
        "devilfruit=[[\"Gomu Gomu No Mi\",\"Luffy\"],[\"Tori Tori No Mi\",\"Marco\"],[\"Mera Mera No Mi\",\"Ace\"]]\n",
        "print(devilfruit)"
      ],
      "metadata": {
        "colab": {
          "base_uri": "https://localhost:8080/"
        },
        "id": "Gy9KH8BA26Cc",
        "outputId": "2e5f8788-05d3-466e-8e48-592447972558"
      },
      "execution_count": null,
      "outputs": [
        {
          "output_type": "stream",
          "name": "stdout",
          "text": [
            "[['Gomu Gomu No Mi', 'Luffy'], ['Tori Tori No Mi', 'Marco'], ['Mera Mera No Mi', 'Ace']]\n"
          ]
        }
      ]
    },
    {
      "cell_type": "code",
      "source": [
        "paramecia,zoan,logia = devilfruit"
      ],
      "metadata": {
        "id": "K0ndmpZ64DX8"
      },
      "execution_count": null,
      "outputs": []
    },
    {
      "cell_type": "code",
      "source": [
        "print(zoan)\n",
        "print(paramecia)\n",
        "print(logia)"
      ],
      "metadata": {
        "colab": {
          "base_uri": "https://localhost:8080/"
        },
        "id": "hZhiEsOk4Dbh",
        "outputId": "8723bfd0-bfd2-4f21-f3d8-a79fb6e78a3f"
      },
      "execution_count": null,
      "outputs": [
        {
          "output_type": "stream",
          "name": "stdout",
          "text": [
            "['Tori Tori No Mi', 'Marco']\n",
            "['Gomu Gomu No Mi', 'Luffy']\n",
            "['Mera Mera No Mi', 'Ace']\n"
          ]
        }
      ]
    },
    {
      "cell_type": "code",
      "source": [
        "print(paramecia[1])\n",
        "print(zoan[1])                #it uses list method inside list\n",
        "print(logia[1])"
      ],
      "metadata": {
        "colab": {
          "base_uri": "https://localhost:8080/"
        },
        "id": "WnNNHrjQ4Dfq",
        "outputId": "0784637a-43fd-4cb3-9959-665a4d2cfae2"
      },
      "execution_count": null,
      "outputs": [
        {
          "output_type": "stream",
          "name": "stdout",
          "text": [
            "Luffy\n",
            "Marco\n",
            "Ace\n"
          ]
        }
      ]
    },
    {
      "cell_type": "markdown",
      "source": [
        "swap variable is method to swap value between variable"
      ],
      "metadata": {
        "id": "UvpSXMJM5Pwk"
      }
    },
    {
      "cell_type": "code",
      "source": [
        "paramecia,zoan=\"Gomu Gomu No Mi\",\"Hito Hito No Mi Nika\"\n",
        "print(paramecia)\n",
        "print(zoan)"
      ],
      "metadata": {
        "colab": {
          "base_uri": "https://localhost:8080/"
        },
        "id": "c7SfNVvP4EPb",
        "outputId": "0a2e969f-be7d-4ab8-d4b7-9c3df859e0ff"
      },
      "execution_count": null,
      "outputs": [
        {
          "output_type": "stream",
          "name": "stdout",
          "text": [
            "Gomu Gomu No Mi\n",
            "Hito Hito No Mi Nika\n"
          ]
        }
      ]
    },
    {
      "cell_type": "code",
      "source": [
        "paramecia,zoan = zoan,paramecia\n",
        "print(paramecia)\n",
        "print(zoan)"
      ],
      "metadata": {
        "colab": {
          "base_uri": "https://localhost:8080/"
        },
        "id": "2UQrPfjY4EW9",
        "outputId": "38d9b419-4691-48d8-b977-236a72005973"
      },
      "execution_count": null,
      "outputs": [
        {
          "output_type": "stream",
          "name": "stdout",
          "text": [
            "Hito Hito No Mi Nika\n",
            "Gomu Gomu No Mi\n"
          ]
        }
      ]
    },
    {
      "cell_type": "markdown",
      "source": [
        "sort sorts numbers or letters. sort takes precedence over capital"
      ],
      "metadata": {
        "id": "BJskafvV51Dn"
      }
    },
    {
      "cell_type": "code",
      "source": [
        "hewan = ['bebek','Cicak','ayam']"
      ],
      "metadata": {
        "id": "59yOKgs64EbE"
      },
      "execution_count": null,
      "outputs": []
    },
    {
      "cell_type": "code",
      "source": [
        "hewan.sort()\n",
        "print(hewan)"
      ],
      "metadata": {
        "colab": {
          "base_uri": "https://localhost:8080/"
        },
        "id": "iQyjJlTO5up9",
        "outputId": "04971eff-e1ec-4297-c262-fb80780ab347"
      },
      "execution_count": null,
      "outputs": [
        {
          "output_type": "stream",
          "name": "stdout",
          "text": [
            "['Cicak', 'ayam', 'bebek']\n"
          ]
        }
      ]
    },
    {
      "cell_type": "code",
      "source": [
        "hewan.sort(reverse=True)  #sort from behind(Descending)\n",
        "print(hewan)"
      ],
      "metadata": {
        "colab": {
          "base_uri": "https://localhost:8080/"
        },
        "id": "LEkjhOhz5u5Z",
        "outputId": "fbcaa680-db18-4bce-cf21-1a32c1130077"
      },
      "execution_count": null,
      "outputs": [
        {
          "output_type": "stream",
          "name": "stdout",
          "text": [
            "['bebek', 'ayam', 'Cicak']\n"
          ]
        }
      ]
    },
    {
      "cell_type": "code",
      "source": [
        "angka = [2,3,2,4,5,3,2,1,4]\n",
        "angka.sort()\n",
        "print(angka)"
      ],
      "metadata": {
        "colab": {
          "base_uri": "https://localhost:8080/"
        },
        "id": "rP0rNuEm26HA",
        "outputId": "9fe0da1a-79a8-4152-ec98-caa874904cf4"
      },
      "execution_count": null,
      "outputs": [
        {
          "output_type": "stream",
          "name": "stdout",
          "text": [
            "[1, 2, 2, 2, 3, 3, 4, 4, 5]\n"
          ]
        }
      ]
    },
    {
      "cell_type": "code",
      "source": [
        "angka.sort(reverse=True)\n",
        "print(angka)"
      ],
      "metadata": {
        "colab": {
          "base_uri": "https://localhost:8080/"
        },
        "id": "mhps8tSI6XeJ",
        "outputId": "276a6356-191e-4b50-dea0-5c30c6b51caf"
      },
      "execution_count": null,
      "outputs": [
        {
          "output_type": "stream",
          "name": "stdout",
          "text": [
            "[5, 4, 4, 3, 3, 2, 2, 2, 1]\n"
          ]
        }
      ]
    },
    {
      "cell_type": "code",
      "source": [
        "fruit =[\"banana\",\"Pear\",\"grape\",\"Avocado\",\"apple\"]"
      ],
      "metadata": {
        "id": "fziJsz7D6Xh0"
      },
      "execution_count": null,
      "outputs": []
    },
    {
      "cell_type": "code",
      "source": [
        "fruit.sort()\n",
        "print(fruit)"
      ],
      "metadata": {
        "colab": {
          "base_uri": "https://localhost:8080/"
        },
        "id": "81kyJoK06XmV",
        "outputId": "b27907af-d412-4ef1-df7f-1aef3356eb5f"
      },
      "execution_count": null,
      "outputs": [
        {
          "output_type": "stream",
          "name": "stdout",
          "text": [
            "['Avocado', 'Pear', 'apple', 'banana', 'grape']\n"
          ]
        }
      ]
    },
    {
      "cell_type": "code",
      "source": [
        "fruit.sort(reverse=True)\n",
        "print(fruit)"
      ],
      "metadata": {
        "colab": {
          "base_uri": "https://localhost:8080/"
        },
        "id": "SMJ9sGyU7nef",
        "outputId": "c500754e-38e3-4d76-e600-68fa93ebba0c"
      },
      "execution_count": null,
      "outputs": [
        {
          "output_type": "stream",
          "name": "stdout",
          "text": [
            "['grape', 'banana', 'apple', 'Pear', 'Avocado']\n"
          ]
        }
      ]
    },
    {
      "cell_type": "code",
      "source": [
        "fruit.sort(key=str.lower)  #it will sort from smallest to largest regardless of capital letters\n",
        "print(fruit)"
      ],
      "metadata": {
        "colab": {
          "base_uri": "https://localhost:8080/"
        },
        "id": "oOEmUMr47niH",
        "outputId": "d3553370-7d2f-42b4-b8bb-48a583fbdc0f"
      },
      "execution_count": null,
      "outputs": [
        {
          "output_type": "stream",
          "name": "stdout",
          "text": [
            "['apple', 'Avocado', 'banana', 'grape', 'Pear']\n"
          ]
        }
      ]
    }
  ]
}