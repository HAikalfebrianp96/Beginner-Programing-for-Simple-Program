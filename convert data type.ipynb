{
  "nbformat": 4,
  "nbformat_minor": 0,
  "metadata": {
    "colab": {
      "name": "Untitled19.ipynb",
      "provenance": [],
      "collapsed_sections": []
    },
    "kernelspec": {
      "name": "python3",
      "display_name": "Python 3"
    },
    "language_info": {
      "name": "python"
    }
  },
  "cells": [
    {
      "cell_type": "markdown",
      "source": [
        "# **Conversion data type**\n"
      ],
      "metadata": {
        "id": "lTY1r8Ari5Eh"
      }
    },
    {
      "cell_type": "markdown",
      "source": [
        "It possible to change data type within reason. \n",
        "\n",
        "first, lets review data type in python. 3 main data type in python is\n",
        "1.   string = a bunch of character that begin and end with \" or '\n",
        "2.   numeric = a bunch of numeric character without \" or ' in the beginning and end. this type of data still can be divided to 3 different type\n",
        "    *   integer = whole number within range -2,147,483,647 to 2,147,483,647\n",
        "    *   float = decimal number\n",
        "    *   complex =number with real component and imaginer component\n",
        "3.   boolean = consist of True and False statement\n",
        "\n",
        "second, let's review advanced data type\n",
        "1. list = an ordered data structure with elements separated by a comma and enclosed within square brackets\n",
        "2. tuple = a collection which is ordered and unchangeable (immutable).\n",
        "3. dictionary = Python's dictionaries are kind of hash table type. They work like associative arrays or hashes found in Perl and consist of key-value pairs. A dictionary key can be almost any Python type, but are usually numbers or strings. Values, on the other hand, can be any arbitrary Python object\n",
        "4. set = an abstract data type that can store unique values, without any particular order\n",
        "\n",
        "\n",
        "these type of data can be change one to another as long it fulfill destination data type requirment. "
      ],
      "metadata": {
        "id": "AVWHpYJ2oNBW"
      }
    },
    {
      "cell_type": "markdown",
      "source": [
        "# string conversion"
      ],
      "metadata": {
        "id": "aqzwGBxE2H2s"
      }
    },
    {
      "cell_type": "markdown",
      "source": [
        "\n",
        "\n",
        "> integer to string\n",
        "\n"
      ],
      "metadata": {
        "id": "ucvHKRSbvLAO"
      }
    },
    {
      "cell_type": "code",
      "source": [
        "str(11)"
      ],
      "metadata": {
        "colab": {
          "base_uri": "https://localhost:8080/",
          "height": 35
        },
        "id": "eOLUEPX6uCJD",
        "outputId": "8ecbdd84-13ce-48c2-d7ac-24843e0c6713"
      },
      "execution_count": null,
      "outputs": [
        {
          "output_type": "execute_result",
          "data": {
            "text/plain": [
              "'11'"
            ],
            "application/vnd.google.colaboratory.intrinsic+json": {
              "type": "string"
            }
          },
          "metadata": {},
          "execution_count": 6
        }
      ]
    },
    {
      "cell_type": "code",
      "execution_count": null,
      "metadata": {
        "colab": {
          "base_uri": "https://localhost:8080/"
        },
        "id": "F2EXP3H6i0OR",
        "outputId": "98e2d23b-9cc1-41a7-dd99-80ba7e2c2997"
      },
      "outputs": [
        {
          "output_type": "execute_result",
          "data": {
            "text/plain": [
              "str"
            ]
          },
          "metadata": {},
          "execution_count": 2
        }
      ],
      "source": [
        "type(str(11))"
      ]
    },
    {
      "cell_type": "markdown",
      "source": [
        "> float to string"
      ],
      "metadata": {
        "id": "MK4v5-iZveYy"
      }
    },
    {
      "cell_type": "code",
      "source": [
        "str(28.9)"
      ],
      "metadata": {
        "colab": {
          "base_uri": "https://localhost:8080/",
          "height": 35
        },
        "id": "v5r1dBQcuFIn",
        "outputId": "67969998-6b9b-4b41-c0fe-14620ca71200"
      },
      "execution_count": null,
      "outputs": [
        {
          "output_type": "execute_result",
          "data": {
            "text/plain": [
              "'28.9'"
            ],
            "application/vnd.google.colaboratory.intrinsic+json": {
              "type": "string"
            }
          },
          "metadata": {},
          "execution_count": 7
        }
      ]
    },
    {
      "cell_type": "code",
      "source": [
        "type(str(28.9))"
      ],
      "metadata": {
        "colab": {
          "base_uri": "https://localhost:8080/"
        },
        "id": "m_ffv1BttKEV",
        "outputId": "414a9bcf-550b-4970-85e1-e78f49f7433e"
      },
      "execution_count": null,
      "outputs": [
        {
          "output_type": "execute_result",
          "data": {
            "text/plain": [
              "str"
            ]
          },
          "metadata": {},
          "execution_count": 3
        }
      ]
    },
    {
      "cell_type": "markdown",
      "source": [
        "> complex to string\n"
      ],
      "metadata": {
        "id": "0LL5IFUOvjQi"
      }
    },
    {
      "cell_type": "code",
      "source": [
        "str(1+2j) "
      ],
      "metadata": {
        "colab": {
          "base_uri": "https://localhost:8080/",
          "height": 35
        },
        "id": "6LAgCKBCuN2K",
        "outputId": "215b8551-c584-4adb-9a70-b1f6adb15de8"
      },
      "execution_count": null,
      "outputs": [
        {
          "output_type": "execute_result",
          "data": {
            "text/plain": [
              "'(1+2j)'"
            ],
            "application/vnd.google.colaboratory.intrinsic+json": {
              "type": "string"
            }
          },
          "metadata": {},
          "execution_count": 8
        }
      ]
    },
    {
      "cell_type": "code",
      "source": [
        "type(str(1+2j))"
      ],
      "metadata": {
        "colab": {
          "base_uri": "https://localhost:8080/"
        },
        "id": "FAo7iCMwuIgf",
        "outputId": "9f720ea3-420a-474e-ce56-d0b3023039c5"
      },
      "execution_count": null,
      "outputs": [
        {
          "output_type": "execute_result",
          "data": {
            "text/plain": [
              "str"
            ]
          },
          "metadata": {},
          "execution_count": 9
        }
      ]
    },
    {
      "cell_type": "markdown",
      "source": [
        "> boolean to string\n"
      ],
      "metadata": {
        "id": "O35mO6W_vo1l"
      }
    },
    {
      "cell_type": "code",
      "source": [
        "str(True)"
      ],
      "metadata": {
        "colab": {
          "base_uri": "https://localhost:8080/",
          "height": 35
        },
        "id": "rUUwmsHDuNFT",
        "outputId": "e36b56ce-9161-441c-a812-8fca026edbf6"
      },
      "execution_count": null,
      "outputs": [
        {
          "output_type": "execute_result",
          "data": {
            "text/plain": [
              "'True'"
            ],
            "application/vnd.google.colaboratory.intrinsic+json": {
              "type": "string"
            }
          },
          "metadata": {},
          "execution_count": 10
        }
      ]
    },
    {
      "cell_type": "code",
      "source": [
        "type(str(True))"
      ],
      "metadata": {
        "colab": {
          "base_uri": "https://localhost:8080/"
        },
        "id": "gRmzmM1ntJ7M",
        "outputId": "a7bba4ca-0d04-42f7-8e20-16d5664517c7"
      },
      "execution_count": null,
      "outputs": [
        {
          "output_type": "execute_result",
          "data": {
            "text/plain": [
              "str"
            ]
          },
          "metadata": {},
          "execution_count": 4
        }
      ]
    },
    {
      "cell_type": "markdown",
      "source": [
        "we already try for string it possible to change any kinds of main data type to string. any character will categorize to string if got ' or \" in the beginning and end characters."
      ],
      "metadata": {
        "id": "MG--dMgytUwP"
      }
    },
    {
      "cell_type": "markdown",
      "source": [
        "#integer conversion"
      ],
      "metadata": {
        "id": "Dj2z_xoJ2pfX"
      }
    },
    {
      "cell_type": "markdown",
      "source": [
        "> string to integer\n"
      ],
      "metadata": {
        "id": "DHlo1qTCwecc"
      }
    },
    {
      "cell_type": "code",
      "source": [
        "int(\"22\")"
      ],
      "metadata": {
        "colab": {
          "base_uri": "https://localhost:8080/"
        },
        "id": "a6u4od1_vHS4",
        "outputId": "4128ee10-7060-4692-fce0-e7df86f0d0c3"
      },
      "execution_count": null,
      "outputs": [
        {
          "output_type": "execute_result",
          "data": {
            "text/plain": [
              "22"
            ]
          },
          "metadata": {},
          "execution_count": 11
        }
      ]
    },
    {
      "cell_type": "code",
      "source": [
        "type(int(\"22\"))"
      ],
      "metadata": {
        "colab": {
          "base_uri": "https://localhost:8080/"
        },
        "id": "T9GK_5M7wlN4",
        "outputId": "a5d97527-79ec-49e3-ea8c-3f8a7565b8ee"
      },
      "execution_count": null,
      "outputs": [
        {
          "output_type": "execute_result",
          "data": {
            "text/plain": [
              "int"
            ]
          },
          "metadata": {},
          "execution_count": 12
        }
      ]
    },
    {
      "cell_type": "code",
      "source": [
        "int(\"22.9\")"
      ],
      "metadata": {
        "colab": {
          "base_uri": "https://localhost:8080/",
          "height": 171
        },
        "id": "pIybX3RdwuAC",
        "outputId": "e377f23d-0518-4def-c45b-5127b047e971"
      },
      "execution_count": null,
      "outputs": [
        {
          "output_type": "error",
          "ename": "ValueError",
          "evalue": "ignored",
          "traceback": [
            "\u001b[0;31m---------------------------------------------------------------------------\u001b[0m",
            "\u001b[0;31mValueError\u001b[0m                                Traceback (most recent call last)",
            "\u001b[0;32m<ipython-input-15-3b164b9d93d2>\u001b[0m in \u001b[0;36m<module>\u001b[0;34m()\u001b[0m\n\u001b[0;32m----> 1\u001b[0;31m \u001b[0mint\u001b[0m\u001b[0;34m(\u001b[0m\u001b[0;34m\"22.9\"\u001b[0m\u001b[0;34m)\u001b[0m\u001b[0;34m\u001b[0m\u001b[0;34m\u001b[0m\u001b[0m\n\u001b[0m",
            "\u001b[0;31mValueError\u001b[0m: invalid literal for int() with base 10: '22.9'"
          ]
        }
      ]
    },
    {
      "cell_type": "code",
      "source": [
        "int(\"laso\")"
      ],
      "metadata": {
        "colab": {
          "base_uri": "https://localhost:8080/",
          "height": 171
        },
        "id": "GAgWNj0WxEGW",
        "outputId": "d020e7ee-8ae1-40d8-d39a-e8d69ab531f4"
      },
      "execution_count": null,
      "outputs": [
        {
          "output_type": "error",
          "ename": "ValueError",
          "evalue": "ignored",
          "traceback": [
            "\u001b[0;31m---------------------------------------------------------------------------\u001b[0m",
            "\u001b[0;31mValueError\u001b[0m                                Traceback (most recent call last)",
            "\u001b[0;32m<ipython-input-17-a5160881855b>\u001b[0m in \u001b[0;36m<module>\u001b[0;34m()\u001b[0m\n\u001b[0;32m----> 1\u001b[0;31m \u001b[0mint\u001b[0m\u001b[0;34m(\u001b[0m\u001b[0;34m\"laso\"\u001b[0m\u001b[0;34m)\u001b[0m\u001b[0;34m\u001b[0m\u001b[0;34m\u001b[0m\u001b[0m\n\u001b[0m",
            "\u001b[0;31mValueError\u001b[0m: invalid literal for int() with base 10: 'laso'"
          ]
        }
      ]
    },
    {
      "cell_type": "code",
      "source": [
        "int(\"21th\")"
      ],
      "metadata": {
        "colab": {
          "base_uri": "https://localhost:8080/",
          "height": 171
        },
        "id": "ocAJfQYgxEC4",
        "outputId": "bf3ce5c6-20a5-46c8-c4db-0c075183f6b8"
      },
      "execution_count": null,
      "outputs": [
        {
          "output_type": "error",
          "ename": "ValueError",
          "evalue": "ignored",
          "traceback": [
            "\u001b[0;31m---------------------------------------------------------------------------\u001b[0m",
            "\u001b[0;31mValueError\u001b[0m                                Traceback (most recent call last)",
            "\u001b[0;32m<ipython-input-18-001299e1d0b8>\u001b[0m in \u001b[0;36m<module>\u001b[0;34m()\u001b[0m\n\u001b[0;32m----> 1\u001b[0;31m \u001b[0mint\u001b[0m\u001b[0;34m(\u001b[0m\u001b[0;34m\"21th\"\u001b[0m\u001b[0;34m)\u001b[0m\u001b[0;34m\u001b[0m\u001b[0;34m\u001b[0m\u001b[0m\n\u001b[0m",
            "\u001b[0;31mValueError\u001b[0m: invalid literal for int() with base 10: '21th'"
          ]
        }
      ]
    },
    {
      "cell_type": "code",
      "source": [
        "int(\"True\")"
      ],
      "metadata": {
        "colab": {
          "base_uri": "https://localhost:8080/",
          "height": 171
        },
        "id": "PcZcP11f4ck_",
        "outputId": "819786ba-46fd-46e6-a49b-1fbdff873792"
      },
      "execution_count": null,
      "outputs": [
        {
          "output_type": "error",
          "ename": "ValueError",
          "evalue": "ignored",
          "traceback": [
            "\u001b[0;31m---------------------------------------------------------------------------\u001b[0m",
            "\u001b[0;31mValueError\u001b[0m                                Traceback (most recent call last)",
            "\u001b[0;32m<ipython-input-36-c0bc75205372>\u001b[0m in \u001b[0;36m<module>\u001b[0;34m()\u001b[0m\n\u001b[0;32m----> 1\u001b[0;31m \u001b[0mint\u001b[0m\u001b[0;34m(\u001b[0m\u001b[0;34m\"True\"\u001b[0m\u001b[0;34m)\u001b[0m\u001b[0;34m\u001b[0m\u001b[0;34m\u001b[0m\u001b[0m\n\u001b[0m",
            "\u001b[0;31mValueError\u001b[0m: invalid literal for int() with base 10: 'True'"
          ]
        }
      ]
    },
    {
      "cell_type": "markdown",
      "source": [
        "from little expeiment above we can see string to integer data convertion only possible if string contain only integer component. so if we try to give string contain other type such as float,combination numeric and alpahbet, or boolean."
      ],
      "metadata": {
        "id": "APuZTH_FxWJK"
      }
    },
    {
      "cell_type": "markdown",
      "source": [
        ">float to integer"
      ],
      "metadata": {
        "id": "R6PMj9sAyPRS"
      }
    },
    {
      "cell_type": "code",
      "source": [
        "int(24.9)"
      ],
      "metadata": {
        "colab": {
          "base_uri": "https://localhost:8080/"
        },
        "id": "y3LP2PKoxD_X",
        "outputId": "b876dff7-d495-4c9c-8265-f8bcb3bd2065"
      },
      "execution_count": null,
      "outputs": [
        {
          "output_type": "execute_result",
          "data": {
            "text/plain": [
              "24"
            ]
          },
          "metadata": {},
          "execution_count": 19
        }
      ]
    },
    {
      "cell_type": "code",
      "source": [
        "type(int(24.9))"
      ],
      "metadata": {
        "colab": {
          "base_uri": "https://localhost:8080/"
        },
        "id": "eZB0WuVfxDvO",
        "outputId": "53b6b863-69ff-4e2f-87cf-964d8c9d16a4"
      },
      "execution_count": null,
      "outputs": [
        {
          "output_type": "execute_result",
          "data": {
            "text/plain": [
              "int"
            ]
          },
          "metadata": {},
          "execution_count": 20
        }
      ]
    },
    {
      "cell_type": "code",
      "source": [
        "int(21.1)"
      ],
      "metadata": {
        "colab": {
          "base_uri": "https://localhost:8080/"
        },
        "id": "SfBAjo8iyyqy",
        "outputId": "f3da2680-5144-42c7-d54d-cc22da96e269"
      },
      "execution_count": null,
      "outputs": [
        {
          "output_type": "execute_result",
          "data": {
            "text/plain": [
              "21"
            ]
          },
          "metadata": {},
          "execution_count": 21
        }
      ]
    },
    {
      "cell_type": "code",
      "source": [
        "type(int(21.1))"
      ],
      "metadata": {
        "colab": {
          "base_uri": "https://localhost:8080/"
        },
        "id": "gdHBKlmJyyfr",
        "outputId": "5a330b10-ba68-4563-e3f2-8e2811d99204"
      },
      "execution_count": null,
      "outputs": [
        {
          "output_type": "execute_result",
          "data": {
            "text/plain": [
              "int"
            ]
          },
          "metadata": {},
          "execution_count": 22
        }
      ]
    },
    {
      "cell_type": "markdown",
      "source": [
        "from little experiment above we know that float to integer data convertion possible for any kind of float data. \n",
        "\n",
        "note : number behind decimal will be discard and won't be rounded like in math"
      ],
      "metadata": {
        "id": "nKH6fhzVy5qg"
      }
    },
    {
      "cell_type": "markdown",
      "source": [
        ">complex to integer"
      ],
      "metadata": {
        "id": "n8Qvvo-TzoxJ"
      }
    },
    {
      "cell_type": "code",
      "source": [
        "int(1+2j)"
      ],
      "metadata": {
        "colab": {
          "base_uri": "https://localhost:8080/",
          "height": 171
        },
        "id": "4UxiF4YgzoJf",
        "outputId": "99b55f81-dac4-45c6-b2cf-d445bb6c632e"
      },
      "execution_count": null,
      "outputs": [
        {
          "output_type": "error",
          "ename": "TypeError",
          "evalue": "ignored",
          "traceback": [
            "\u001b[0;31m---------------------------------------------------------------------------\u001b[0m",
            "\u001b[0;31mTypeError\u001b[0m                                 Traceback (most recent call last)",
            "\u001b[0;32m<ipython-input-23-92955e8f77c0>\u001b[0m in \u001b[0;36m<module>\u001b[0;34m()\u001b[0m\n\u001b[0;32m----> 1\u001b[0;31m \u001b[0mint\u001b[0m\u001b[0;34m(\u001b[0m\u001b[0;36m1\u001b[0m\u001b[0;34m+\u001b[0m\u001b[0;36m2j\u001b[0m\u001b[0;34m)\u001b[0m\u001b[0;34m\u001b[0m\u001b[0;34m\u001b[0m\u001b[0m\n\u001b[0m",
            "\u001b[0;31mTypeError\u001b[0m: can't convert complex to int"
          ]
        }
      ]
    },
    {
      "cell_type": "markdown",
      "source": [
        "it is impossible to convert complex to integer"
      ],
      "metadata": {
        "id": "KkbUD59KzxIP"
      }
    },
    {
      "cell_type": "markdown",
      "source": [
        ">boolean to integer"
      ],
      "metadata": {
        "id": "s70oomYJz4dF"
      }
    },
    {
      "cell_type": "code",
      "source": [
        "int(True)"
      ],
      "metadata": {
        "colab": {
          "base_uri": "https://localhost:8080/"
        },
        "id": "f5UUoLMuz-Y3",
        "outputId": "64ba0880-d4a3-4c84-c920-e1e98fc431da"
      },
      "execution_count": null,
      "outputs": [
        {
          "output_type": "execute_result",
          "data": {
            "text/plain": [
              "1"
            ]
          },
          "metadata": {},
          "execution_count": 24
        }
      ]
    },
    {
      "cell_type": "code",
      "source": [
        "type(int(True))"
      ],
      "metadata": {
        "colab": {
          "base_uri": "https://localhost:8080/"
        },
        "id": "BAhODsgJ0G8A",
        "outputId": "50d90f07-0707-4a5a-fb3d-59971a1d1a49"
      },
      "execution_count": null,
      "outputs": [
        {
          "output_type": "execute_result",
          "data": {
            "text/plain": [
              "int"
            ]
          },
          "metadata": {},
          "execution_count": 25
        }
      ]
    },
    {
      "cell_type": "code",
      "source": [
        "int(False)"
      ],
      "metadata": {
        "colab": {
          "base_uri": "https://localhost:8080/"
        },
        "id": "fStClN-Y0G0Y",
        "outputId": "d60df13f-0454-46d0-953e-4a94aabf246f"
      },
      "execution_count": null,
      "outputs": [
        {
          "output_type": "execute_result",
          "data": {
            "text/plain": [
              "0"
            ]
          },
          "metadata": {},
          "execution_count": 26
        }
      ]
    },
    {
      "cell_type": "code",
      "source": [
        "type(int(False))"
      ],
      "metadata": {
        "colab": {
          "base_uri": "https://localhost:8080/"
        },
        "id": "OsndFzu50Grl",
        "outputId": "58b4b75e-cf1b-40f3-f275-990556dbf188"
      },
      "execution_count": null,
      "outputs": [
        {
          "output_type": "execute_result",
          "data": {
            "text/plain": [
              "int"
            ]
          },
          "metadata": {},
          "execution_count": 27
        }
      ]
    },
    {
      "cell_type": "markdown",
      "source": [
        "from little experiment above, we know that it possible to convert boolean to integer with True equal to 1 and False equal to 0. 0 and 1 is the most basic computing knowledge  "
      ],
      "metadata": {
        "id": "kKxHzEzg0RtN"
      }
    },
    {
      "cell_type": "markdown",
      "source": [
        "so, we can convert some main type data but not all can be integer. type data that eligble to convert is\n",
        "\n",
        "\n",
        "*   string contain only integer part\n",
        "*   float with note number behind decimal will be discard not rounded\n",
        "*   boolean wuth True is 1 ad False is 0"
      ],
      "metadata": {
        "id": "Dlw21ijw00le"
      }
    },
    {
      "cell_type": "markdown",
      "source": [
        "#float conversion"
      ],
      "metadata": {
        "id": "pikPcPGQ2wwS"
      }
    },
    {
      "cell_type": "markdown",
      "source": [
        ">string to float"
      ],
      "metadata": {
        "id": "3WTQ2kxf3Knm"
      }
    },
    {
      "cell_type": "code",
      "source": [
        "float(\"22\")"
      ],
      "metadata": {
        "colab": {
          "base_uri": "https://localhost:8080/"
        },
        "id": "MgJTf5uA2-Fb",
        "outputId": "7087756a-f99c-49d1-918f-8938190d39dd"
      },
      "execution_count": null,
      "outputs": [
        {
          "output_type": "execute_result",
          "data": {
            "text/plain": [
              "22.0"
            ]
          },
          "metadata": {},
          "execution_count": 28
        }
      ]
    },
    {
      "cell_type": "code",
      "source": [
        "type(float(\"22\"))"
      ],
      "metadata": {
        "colab": {
          "base_uri": "https://localhost:8080/"
        },
        "id": "gkFknlrt3VAd",
        "outputId": "6cda87c0-2442-4de7-f13a-98719b13671c"
      },
      "execution_count": null,
      "outputs": [
        {
          "output_type": "execute_result",
          "data": {
            "text/plain": [
              "float"
            ]
          },
          "metadata": {},
          "execution_count": 29
        }
      ]
    },
    {
      "cell_type": "code",
      "source": [
        "float(\"23.9\")"
      ],
      "metadata": {
        "colab": {
          "base_uri": "https://localhost:8080/"
        },
        "id": "fdbCVpF33U0c",
        "outputId": "0d9bd5df-280a-4432-ee19-2691d5b850aa"
      },
      "execution_count": null,
      "outputs": [
        {
          "output_type": "execute_result",
          "data": {
            "text/plain": [
              "23.9"
            ]
          },
          "metadata": {},
          "execution_count": 30
        }
      ]
    },
    {
      "cell_type": "code",
      "source": [
        "type(float(\"23.9\"))"
      ],
      "metadata": {
        "colab": {
          "base_uri": "https://localhost:8080/"
        },
        "id": "zOOfSGEt3UP1",
        "outputId": "07da49d5-8def-44d3-9076-7b8852a965ef"
      },
      "execution_count": null,
      "outputs": [
        {
          "output_type": "execute_result",
          "data": {
            "text/plain": [
              "float"
            ]
          },
          "metadata": {},
          "execution_count": 31
        }
      ]
    },
    {
      "cell_type": "code",
      "source": [
        "float(\"21th\")"
      ],
      "metadata": {
        "colab": {
          "base_uri": "https://localhost:8080/",
          "height": 171
        },
        "id": "3xUb-4L93UCM",
        "outputId": "33c8fc25-9aa3-43b0-eb71-f66cb4aea9e3"
      },
      "execution_count": null,
      "outputs": [
        {
          "output_type": "error",
          "ename": "ValueError",
          "evalue": "ignored",
          "traceback": [
            "\u001b[0;31m---------------------------------------------------------------------------\u001b[0m",
            "\u001b[0;31mValueError\u001b[0m                                Traceback (most recent call last)",
            "\u001b[0;32m<ipython-input-32-0a7131f42835>\u001b[0m in \u001b[0;36m<module>\u001b[0;34m()\u001b[0m\n\u001b[0;32m----> 1\u001b[0;31m \u001b[0mfloat\u001b[0m\u001b[0;34m(\u001b[0m\u001b[0;34m\"21th\"\u001b[0m\u001b[0;34m)\u001b[0m\u001b[0;34m\u001b[0m\u001b[0;34m\u001b[0m\u001b[0m\n\u001b[0m",
            "\u001b[0;31mValueError\u001b[0m: could not convert string to float: '21th'"
          ]
        }
      ]
    },
    {
      "cell_type": "code",
      "source": [
        "float(\"garden\")"
      ],
      "metadata": {
        "colab": {
          "base_uri": "https://localhost:8080/",
          "height": 171
        },
        "id": "vtPtoUr53mHW",
        "outputId": "5f12729b-3cc5-4163-974c-1ef1bc211f2c"
      },
      "execution_count": null,
      "outputs": [
        {
          "output_type": "error",
          "ename": "ValueError",
          "evalue": "ignored",
          "traceback": [
            "\u001b[0;31m---------------------------------------------------------------------------\u001b[0m",
            "\u001b[0;31mValueError\u001b[0m                                Traceback (most recent call last)",
            "\u001b[0;32m<ipython-input-33-12e1af4a4ab7>\u001b[0m in \u001b[0;36m<module>\u001b[0;34m()\u001b[0m\n\u001b[0;32m----> 1\u001b[0;31m \u001b[0mfloat\u001b[0m\u001b[0;34m(\u001b[0m\u001b[0;34m\"garden\"\u001b[0m\u001b[0;34m)\u001b[0m\u001b[0;34m\u001b[0m\u001b[0;34m\u001b[0m\u001b[0m\n\u001b[0m",
            "\u001b[0;31mValueError\u001b[0m: could not convert string to float: 'garden'"
          ]
        }
      ]
    },
    {
      "cell_type": "code",
      "source": [
        "float(\"2+1j\")"
      ],
      "metadata": {
        "colab": {
          "base_uri": "https://localhost:8080/",
          "height": 171
        },
        "id": "2zimKD5R4DuM",
        "outputId": "fd0b1c1b-4f76-4933-8b2b-134a4dbaca01"
      },
      "execution_count": null,
      "outputs": [
        {
          "output_type": "error",
          "ename": "ValueError",
          "evalue": "ignored",
          "traceback": [
            "\u001b[0;31m---------------------------------------------------------------------------\u001b[0m",
            "\u001b[0;31mValueError\u001b[0m                                Traceback (most recent call last)",
            "\u001b[0;32m<ipython-input-34-39481c977e93>\u001b[0m in \u001b[0;36m<module>\u001b[0;34m()\u001b[0m\n\u001b[0;32m----> 1\u001b[0;31m \u001b[0mfloat\u001b[0m\u001b[0;34m(\u001b[0m\u001b[0;34m\"2+1j\"\u001b[0m\u001b[0;34m)\u001b[0m\u001b[0;34m\u001b[0m\u001b[0;34m\u001b[0m\u001b[0m\n\u001b[0m",
            "\u001b[0;31mValueError\u001b[0m: could not convert string to float: '2+1j'"
          ]
        }
      ]
    },
    {
      "cell_type": "code",
      "source": [
        "float(\"True\")"
      ],
      "metadata": {
        "colab": {
          "base_uri": "https://localhost:8080/",
          "height": 171
        },
        "id": "IRvExsKa4UyE",
        "outputId": "e9386afb-8d02-4cad-d785-91b23e325079"
      },
      "execution_count": null,
      "outputs": [
        {
          "output_type": "error",
          "ename": "ValueError",
          "evalue": "ignored",
          "traceback": [
            "\u001b[0;31m---------------------------------------------------------------------------\u001b[0m",
            "\u001b[0;31mValueError\u001b[0m                                Traceback (most recent call last)",
            "\u001b[0;32m<ipython-input-35-652923a8e3f5>\u001b[0m in \u001b[0;36m<module>\u001b[0;34m()\u001b[0m\n\u001b[0;32m----> 1\u001b[0;31m \u001b[0mfloat\u001b[0m\u001b[0;34m(\u001b[0m\u001b[0;34m\"True\"\u001b[0m\u001b[0;34m)\u001b[0m\u001b[0;34m\u001b[0m\u001b[0;34m\u001b[0m\u001b[0m\n\u001b[0m",
            "\u001b[0;31mValueError\u001b[0m: could not convert string to float: 'True'"
          ]
        }
      ]
    },
    {
      "cell_type": "markdown",
      "source": [
        "it possible to change string to float type data as long as string contain only intger or float type data"
      ],
      "metadata": {
        "id": "9Bg7I4vg3qgU"
      }
    },
    {
      "cell_type": "markdown",
      "source": [
        ">integer to float"
      ],
      "metadata": {
        "id": "2iAarqYK4xVd"
      }
    },
    {
      "cell_type": "code",
      "source": [
        "float(22)"
      ],
      "metadata": {
        "colab": {
          "base_uri": "https://localhost:8080/"
        },
        "id": "bQ1cysHa41kp",
        "outputId": "fd29c71e-bd48-42ac-be6f-a15792b47031"
      },
      "execution_count": null,
      "outputs": [
        {
          "output_type": "execute_result",
          "data": {
            "text/plain": [
              "22.0"
            ]
          },
          "metadata": {},
          "execution_count": 37
        }
      ]
    },
    {
      "cell_type": "code",
      "source": [
        "type(float(22))"
      ],
      "metadata": {
        "colab": {
          "base_uri": "https://localhost:8080/"
        },
        "id": "3aGtq6LB5gHE",
        "outputId": "94b934ee-0109-4432-9dcc-e43322b44870"
      },
      "execution_count": null,
      "outputs": [
        {
          "output_type": "execute_result",
          "data": {
            "text/plain": [
              "float"
            ]
          },
          "metadata": {},
          "execution_count": 39
        }
      ]
    },
    {
      "cell_type": "code",
      "source": [
        "float(99)"
      ],
      "metadata": {
        "colab": {
          "base_uri": "https://localhost:8080/"
        },
        "id": "-8-vBnCC5awY",
        "outputId": "02e13a2e-bdd0-46d1-d754-7f8c56404889"
      },
      "execution_count": null,
      "outputs": [
        {
          "output_type": "execute_result",
          "data": {
            "text/plain": [
              "99.0"
            ]
          },
          "metadata": {},
          "execution_count": 38
        }
      ]
    },
    {
      "cell_type": "code",
      "source": [
        "type(float(99))"
      ],
      "metadata": {
        "colab": {
          "base_uri": "https://localhost:8080/"
        },
        "id": "AaLrSdUq5khp",
        "outputId": "b0455512-4ca2-422a-fc48-b80fe3069382"
      },
      "execution_count": null,
      "outputs": [
        {
          "output_type": "execute_result",
          "data": {
            "text/plain": [
              "float"
            ]
          },
          "metadata": {},
          "execution_count": 40
        }
      ]
    },
    {
      "cell_type": "markdown",
      "source": [
        "it possible to change any kind of integer data to float data. integer data will be added 0 beind decimal when covert to float.\n",
        "\n",
        "note : if you covert float to integer and want to change back to float. the discard number behind decimal won't back"
      ],
      "metadata": {
        "id": "tVF_hV-y5m5u"
      }
    },
    {
      "cell_type": "markdown",
      "source": [
        ">complex to float"
      ],
      "metadata": {
        "id": "BX6CWR7h7X7g"
      }
    },
    {
      "cell_type": "code",
      "source": [
        "float(1+2j)"
      ],
      "metadata": {
        "colab": {
          "base_uri": "https://localhost:8080/",
          "height": 171
        },
        "id": "huhW0-RS6lSL",
        "outputId": "0bc6ec4b-f5a4-46bb-aa84-66c46b120d51"
      },
      "execution_count": 34,
      "outputs": [
        {
          "output_type": "error",
          "ename": "TypeError",
          "evalue": "ignored",
          "traceback": [
            "\u001b[0;31m---------------------------------------------------------------------------\u001b[0m",
            "\u001b[0;31mTypeError\u001b[0m                                 Traceback (most recent call last)",
            "\u001b[0;32m<ipython-input-34-351733898702>\u001b[0m in \u001b[0;36m<module>\u001b[0;34m()\u001b[0m\n\u001b[0;32m----> 1\u001b[0;31m \u001b[0mfloat\u001b[0m\u001b[0;34m(\u001b[0m\u001b[0;36m1\u001b[0m\u001b[0;34m+\u001b[0m\u001b[0;36m2j\u001b[0m\u001b[0;34m)\u001b[0m\u001b[0;34m\u001b[0m\u001b[0;34m\u001b[0m\u001b[0m\n\u001b[0m",
            "\u001b[0;31mTypeError\u001b[0m: can't convert complex to float"
          ]
        }
      ]
    },
    {
      "cell_type": "markdown",
      "source": [
        "from little experiment, we know that it is impossible to change complex to float type data  "
      ],
      "metadata": {
        "id": "5W4iAIT871Nv"
      }
    },
    {
      "cell_type": "markdown",
      "source": [
        "> boolean to float"
      ],
      "metadata": {
        "id": "DmjNqpkS8Ujt"
      }
    },
    {
      "cell_type": "code",
      "source": [
        "float(True)"
      ],
      "metadata": {
        "colab": {
          "base_uri": "https://localhost:8080/"
        },
        "id": "m7kW8Ica8Y3L",
        "outputId": "6827422e-8a97-4354-f233-957fe9d0d3be"
      },
      "execution_count": null,
      "outputs": [
        {
          "output_type": "execute_result",
          "data": {
            "text/plain": [
              "1.0"
            ]
          },
          "metadata": {},
          "execution_count": 42
        }
      ]
    },
    {
      "cell_type": "code",
      "source": [
        "type(float(True))"
      ],
      "metadata": {
        "colab": {
          "base_uri": "https://localhost:8080/"
        },
        "id": "sw40ZtR48epR",
        "outputId": "f82cda89-d4eb-4a71-b4f6-10113aa60b51"
      },
      "execution_count": null,
      "outputs": [
        {
          "output_type": "execute_result",
          "data": {
            "text/plain": [
              "float"
            ]
          },
          "metadata": {},
          "execution_count": 43
        }
      ]
    },
    {
      "cell_type": "code",
      "source": [
        "float(False)"
      ],
      "metadata": {
        "colab": {
          "base_uri": "https://localhost:8080/"
        },
        "id": "7G74Avb18ehO",
        "outputId": "0d72e2c8-4f49-4809-ec25-2e8beacf5e25"
      },
      "execution_count": null,
      "outputs": [
        {
          "output_type": "execute_result",
          "data": {
            "text/plain": [
              "0.0"
            ]
          },
          "metadata": {},
          "execution_count": 44
        }
      ]
    },
    {
      "cell_type": "code",
      "source": [
        "type(float(False))"
      ],
      "metadata": {
        "colab": {
          "base_uri": "https://localhost:8080/"
        },
        "id": "3DcpvBKf8eZp",
        "outputId": "685e7fca-fbb4-4390-9ac6-904c8baa3dfa"
      },
      "execution_count": null,
      "outputs": [
        {
          "output_type": "execute_result",
          "data": {
            "text/plain": [
              "float"
            ]
          },
          "metadata": {},
          "execution_count": 45
        }
      ]
    },
    {
      "cell_type": "markdown",
      "source": [
        "from little experiment, we know that it possible to change boolean to float type data. True equal to 1.0 and False equal to 0.0 "
      ],
      "metadata": {
        "id": "zC7kTUyl8vjK"
      }
    },
    {
      "cell_type": "markdown",
      "source": [
        "so, not all type data is eligble to convert as float\n",
        "\n",
        "\n",
        "*   string can be convert if string contain only integer or float\n",
        "*   any integer can be convert to float\n",
        "*   boolea can be convert to float with True as 1.0 and False as 0.0\n",
        "\n"
      ],
      "metadata": {
        "id": "fDuAks5lyGp-"
      }
    },
    {
      "cell_type": "markdown",
      "source": [
        "#complex conversion"
      ],
      "metadata": {
        "id": "Xr80-upr9Udr"
      }
    },
    {
      "cell_type": "markdown",
      "source": [
        ">string to complex"
      ],
      "metadata": {
        "id": "j_3lA8RQ9crd"
      }
    },
    {
      "cell_type": "code",
      "source": [
        "complex(\"1+4j\")"
      ],
      "metadata": {
        "colab": {
          "base_uri": "https://localhost:8080/"
        },
        "id": "LzDvshor9b93",
        "outputId": "abb9bfa2-2452-4331-ad8c-cb1cdf5f6c55"
      },
      "execution_count": null,
      "outputs": [
        {
          "output_type": "execute_result",
          "data": {
            "text/plain": [
              "(1+4j)"
            ]
          },
          "metadata": {},
          "execution_count": 46
        }
      ]
    },
    {
      "cell_type": "code",
      "source": [
        "type(complex(\"1+4j\"))"
      ],
      "metadata": {
        "colab": {
          "base_uri": "https://localhost:8080/"
        },
        "id": "zOeYH3P89o9u",
        "outputId": "066f80b0-6da3-4dc1-851c-46440208baf4"
      },
      "execution_count": null,
      "outputs": [
        {
          "output_type": "execute_result",
          "data": {
            "text/plain": [
              "complex"
            ]
          },
          "metadata": {},
          "execution_count": 47
        }
      ]
    },
    {
      "cell_type": "code",
      "source": [
        "complex(\"22\")"
      ],
      "metadata": {
        "colab": {
          "base_uri": "https://localhost:8080/"
        },
        "id": "bKqKlV6Z9vM7",
        "outputId": "c1aed6d8-057d-4d40-f150-757f5521cfee"
      },
      "execution_count": null,
      "outputs": [
        {
          "output_type": "execute_result",
          "data": {
            "text/plain": [
              "(22+0j)"
            ]
          },
          "metadata": {},
          "execution_count": 48
        }
      ]
    },
    {
      "cell_type": "code",
      "source": [
        "type(complex(\"22\"))"
      ],
      "metadata": {
        "colab": {
          "base_uri": "https://localhost:8080/"
        },
        "id": "ikVCYlRY97Mn",
        "outputId": "3786dc0d-c885-4a6b-f6c0-a8ff78fc6211"
      },
      "execution_count": null,
      "outputs": [
        {
          "output_type": "execute_result",
          "data": {
            "text/plain": [
              "complex"
            ]
          },
          "metadata": {},
          "execution_count": 49
        }
      ]
    },
    {
      "cell_type": "code",
      "source": [
        "complex(\"22.14\")"
      ],
      "metadata": {
        "colab": {
          "base_uri": "https://localhost:8080/"
        },
        "id": "A5pSvdazD39p",
        "outputId": "cb3d4e69-da43-41d8-c21b-1597bf2bfb2a"
      },
      "execution_count": null,
      "outputs": [
        {
          "output_type": "execute_result",
          "data": {
            "text/plain": [
              "(22.14+0j)"
            ]
          },
          "metadata": {},
          "execution_count": 50
        }
      ]
    },
    {
      "cell_type": "code",
      "source": [
        "type(complex(\"22.14\"))"
      ],
      "metadata": {
        "colab": {
          "base_uri": "https://localhost:8080/"
        },
        "id": "FxV3kN1gD3sn",
        "outputId": "87727527-06c9-42ee-d96c-af0d5b013b28"
      },
      "execution_count": null,
      "outputs": [
        {
          "output_type": "execute_result",
          "data": {
            "text/plain": [
              "complex"
            ]
          },
          "metadata": {},
          "execution_count": 51
        }
      ]
    },
    {
      "cell_type": "code",
      "source": [
        "complex(\"22th\")"
      ],
      "metadata": {
        "colab": {
          "base_uri": "https://localhost:8080/",
          "height": 171
        },
        "id": "74GnX0vyD3YL",
        "outputId": "cc205af6-05fa-4962-8e35-717d080f9e4f"
      },
      "execution_count": null,
      "outputs": [
        {
          "output_type": "error",
          "ename": "ValueError",
          "evalue": "ignored",
          "traceback": [
            "\u001b[0;31m---------------------------------------------------------------------------\u001b[0m",
            "\u001b[0;31mValueError\u001b[0m                                Traceback (most recent call last)",
            "\u001b[0;32m<ipython-input-52-1694617283d8>\u001b[0m in \u001b[0;36m<module>\u001b[0;34m()\u001b[0m\n\u001b[0;32m----> 1\u001b[0;31m \u001b[0mcomplex\u001b[0m\u001b[0;34m(\u001b[0m\u001b[0;34m\"22th\"\u001b[0m\u001b[0;34m)\u001b[0m\u001b[0;34m\u001b[0m\u001b[0;34m\u001b[0m\u001b[0m\n\u001b[0m",
            "\u001b[0;31mValueError\u001b[0m: complex() arg is a malformed string"
          ]
        }
      ]
    },
    {
      "cell_type": "code",
      "source": [
        "complex(\"kita\")"
      ],
      "metadata": {
        "colab": {
          "base_uri": "https://localhost:8080/",
          "height": 171
        },
        "id": "Bna-yKrdEEfT",
        "outputId": "413f3aa4-503a-43e6-a03d-0952575b10f7"
      },
      "execution_count": null,
      "outputs": [
        {
          "output_type": "error",
          "ename": "ValueError",
          "evalue": "ignored",
          "traceback": [
            "\u001b[0;31m---------------------------------------------------------------------------\u001b[0m",
            "\u001b[0;31mValueError\u001b[0m                                Traceback (most recent call last)",
            "\u001b[0;32m<ipython-input-53-efb60517e871>\u001b[0m in \u001b[0;36m<module>\u001b[0;34m()\u001b[0m\n\u001b[0;32m----> 1\u001b[0;31m \u001b[0mcomplex\u001b[0m\u001b[0;34m(\u001b[0m\u001b[0;34m\"kita\"\u001b[0m\u001b[0;34m)\u001b[0m\u001b[0;34m\u001b[0m\u001b[0;34m\u001b[0m\u001b[0m\n\u001b[0m",
            "\u001b[0;31mValueError\u001b[0m: complex() arg is a malformed string"
          ]
        }
      ]
    },
    {
      "cell_type": "markdown",
      "source": [
        "from little experiment, we know that to convert string to complex data string need to be contain only float or integer or complex "
      ],
      "metadata": {
        "id": "dtlOiHqwEZXj"
      }
    },
    {
      "cell_type": "markdown",
      "source": [
        ">integer to complex"
      ],
      "metadata": {
        "id": "04p6S77SE4L4"
      }
    },
    {
      "cell_type": "code",
      "source": [
        "complex(22)"
      ],
      "metadata": {
        "colab": {
          "base_uri": "https://localhost:8080/"
        },
        "id": "wFMENfLpE9hg",
        "outputId": "85341f6a-7639-479d-951f-bc1f60a537c5"
      },
      "execution_count": null,
      "outputs": [
        {
          "output_type": "execute_result",
          "data": {
            "text/plain": [
              "(22+0j)"
            ]
          },
          "metadata": {},
          "execution_count": 54
        }
      ]
    },
    {
      "cell_type": "code",
      "source": [
        "type(complex(22))"
      ],
      "metadata": {
        "colab": {
          "base_uri": "https://localhost:8080/"
        },
        "id": "T7ZBQ81CFAku",
        "outputId": "8652889d-b13c-42e7-a9ea-9eda82dc793b"
      },
      "execution_count": null,
      "outputs": [
        {
          "output_type": "execute_result",
          "data": {
            "text/plain": [
              "complex"
            ]
          },
          "metadata": {},
          "execution_count": 55
        }
      ]
    },
    {
      "cell_type": "markdown",
      "source": [
        "from littel experiment, we know that it is possible to change integer to complex data type with its number become real part and form imaginer part will be fill with 0j"
      ],
      "metadata": {
        "id": "PmUXTHDWFVhU"
      }
    },
    {
      "cell_type": "markdown",
      "source": [
        ">float to complex"
      ],
      "metadata": {
        "id": "ph7Bma7CGAR5"
      }
    },
    {
      "cell_type": "code",
      "source": [
        "complex(22.9)"
      ],
      "metadata": {
        "colab": {
          "base_uri": "https://localhost:8080/"
        },
        "id": "NbSFfVHSF_ol",
        "outputId": "8e05f20f-32ed-4c49-8af7-f9e92100be92"
      },
      "execution_count": null,
      "outputs": [
        {
          "output_type": "execute_result",
          "data": {
            "text/plain": [
              "(22.9+0j)"
            ]
          },
          "metadata": {},
          "execution_count": 56
        }
      ]
    },
    {
      "cell_type": "code",
      "source": [
        "type(complex(22.9))"
      ],
      "metadata": {
        "colab": {
          "base_uri": "https://localhost:8080/"
        },
        "id": "PD64gMMSGVwz",
        "outputId": "8fe839f1-d04b-4feb-b791-880f0508817d"
      },
      "execution_count": null,
      "outputs": [
        {
          "output_type": "execute_result",
          "data": {
            "text/plain": [
              "complex"
            ]
          },
          "metadata": {},
          "execution_count": 57
        }
      ]
    },
    {
      "cell_type": "markdown",
      "source": [
        "so, we can change float type data to complex with float data as real component and imainer component wull be equal to 0j"
      ],
      "metadata": {
        "id": "IIoVksG7GW5n"
      }
    },
    {
      "cell_type": "markdown",
      "source": [
        ">Boolean to complex"
      ],
      "metadata": {
        "id": "yt0irjS6KbA-"
      }
    },
    {
      "cell_type": "code",
      "source": [
        "complex(True)"
      ],
      "metadata": {
        "colab": {
          "base_uri": "https://localhost:8080/"
        },
        "id": "P9Z_yYt-Km_k",
        "outputId": "2ca21840-a073-4603-cf81-86f10941b2a6"
      },
      "execution_count": null,
      "outputs": [
        {
          "output_type": "execute_result",
          "data": {
            "text/plain": [
              "(1+0j)"
            ]
          },
          "metadata": {},
          "execution_count": 58
        }
      ]
    },
    {
      "cell_type": "code",
      "source": [
        "type(complex(True))"
      ],
      "metadata": {
        "colab": {
          "base_uri": "https://localhost:8080/"
        },
        "id": "rtilKtNZKy6U",
        "outputId": "c7afb85a-95b5-41cf-b5f3-977d160c828f"
      },
      "execution_count": null,
      "outputs": [
        {
          "output_type": "execute_result",
          "data": {
            "text/plain": [
              "complex"
            ]
          },
          "metadata": {},
          "execution_count": 60
        }
      ]
    },
    {
      "cell_type": "code",
      "source": [
        "complex(False)"
      ],
      "metadata": {
        "colab": {
          "base_uri": "https://localhost:8080/"
        },
        "id": "682OVdujKmia",
        "outputId": "979538a4-9abb-4db5-91b1-074418b6aba1"
      },
      "execution_count": null,
      "outputs": [
        {
          "output_type": "execute_result",
          "data": {
            "text/plain": [
              "0j"
            ]
          },
          "metadata": {},
          "execution_count": 59
        }
      ]
    },
    {
      "cell_type": "code",
      "source": [
        "type(complex(False))"
      ],
      "metadata": {
        "colab": {
          "base_uri": "https://localhost:8080/"
        },
        "id": "MxrVj8A_LDgx",
        "outputId": "6df202e5-803c-41d4-f86b-45c133aaebc1"
      },
      "execution_count": null,
      "outputs": [
        {
          "output_type": "execute_result",
          "data": {
            "text/plain": [
              "complex"
            ]
          },
          "metadata": {},
          "execution_count": 61
        }
      ]
    },
    {
      "cell_type": "markdown",
      "source": [
        "so, we know that boolean type data can be change to complex type data with True as 1 real value and False as 0 real value and for imaginer part same as 0j"
      ],
      "metadata": {
        "id": "RTjm_dCBLHRY"
      }
    },
    {
      "cell_type": "markdown",
      "source": [
        "so, type data eligble to convert to complex:\n",
        "\n",
        "* string that contain only numeric type data\n",
        "* float wiith imaginer part is 0j\n",
        "* integer with imaginer part is 0j\n",
        "* boolean with True equal to 1 for real component and 0j for imaginer component and False equal to 0 for ral component and 0j form imaginer component"
      ],
      "metadata": {
        "id": "pg7H2fvVzLTP"
      }
    },
    {
      "cell_type": "markdown",
      "source": [
        "#Boolean Conversion"
      ],
      "metadata": {
        "id": "6gjZXfPrLjOY"
      }
    },
    {
      "cell_type": "markdown",
      "source": [
        ">string to boolean"
      ],
      "metadata": {
        "id": "IVPG9PXKL7xX"
      }
    },
    {
      "cell_type": "code",
      "source": [
        "bool(\"12\")"
      ],
      "metadata": {
        "colab": {
          "base_uri": "https://localhost:8080/"
        },
        "id": "Obw2w8LGLZph",
        "outputId": "bc76a798-b6ed-4e6c-f6f7-0ae019d22ebe"
      },
      "execution_count": null,
      "outputs": [
        {
          "output_type": "execute_result",
          "data": {
            "text/plain": [
              "True"
            ]
          },
          "metadata": {},
          "execution_count": 62
        }
      ]
    },
    {
      "cell_type": "code",
      "source": [
        "type(bool(\"12\"))"
      ],
      "metadata": {
        "colab": {
          "base_uri": "https://localhost:8080/"
        },
        "id": "OxnI540JMDrE",
        "outputId": "cf80b670-2169-496b-cedf-62d88b26b083"
      },
      "execution_count": null,
      "outputs": [
        {
          "output_type": "execute_result",
          "data": {
            "text/plain": [
              "bool"
            ]
          },
          "metadata": {},
          "execution_count": 63
        }
      ]
    },
    {
      "cell_type": "code",
      "source": [
        "bool(\"0\")"
      ],
      "metadata": {
        "colab": {
          "base_uri": "https://localhost:8080/"
        },
        "id": "dlSy167IMDnQ",
        "outputId": "0d33b527-18ef-4b2e-b1a2-a058caeacab5"
      },
      "execution_count": null,
      "outputs": [
        {
          "output_type": "execute_result",
          "data": {
            "text/plain": [
              "True"
            ]
          },
          "metadata": {},
          "execution_count": 64
        }
      ]
    },
    {
      "cell_type": "code",
      "source": [
        "type(bool(\"0\"))"
      ],
      "metadata": {
        "id": "aox326nPMDjy",
        "colab": {
          "base_uri": "https://localhost:8080/"
        },
        "outputId": "1060539e-f300-4200-e1d8-a3869872c442"
      },
      "execution_count": 1,
      "outputs": [
        {
          "output_type": "execute_result",
          "data": {
            "text/plain": [
              "bool"
            ]
          },
          "metadata": {},
          "execution_count": 1
        }
      ]
    },
    {
      "cell_type": "code",
      "source": [
        "bool(\"string\")"
      ],
      "metadata": {
        "id": "sYADkNLYMDf9",
        "colab": {
          "base_uri": "https://localhost:8080/"
        },
        "outputId": "a4d31464-6866-45ad-b36c-aa0123cb7c3f"
      },
      "execution_count": 2,
      "outputs": [
        {
          "output_type": "execute_result",
          "data": {
            "text/plain": [
              "True"
            ]
          },
          "metadata": {},
          "execution_count": 2
        }
      ]
    },
    {
      "cell_type": "code",
      "source": [
        "type(bool(\"string\"))"
      ],
      "metadata": {
        "id": "k12_roAHMDby",
        "colab": {
          "base_uri": "https://localhost:8080/"
        },
        "outputId": "f0c879a2-fba6-4e35-9745-0739d118fcda"
      },
      "execution_count": 3,
      "outputs": [
        {
          "output_type": "execute_result",
          "data": {
            "text/plain": [
              "bool"
            ]
          },
          "metadata": {},
          "execution_count": 3
        }
      ]
    },
    {
      "cell_type": "code",
      "source": [
        "bool(\"\")"
      ],
      "metadata": {
        "colab": {
          "base_uri": "https://localhost:8080/"
        },
        "id": "QfeRUcaylaGq",
        "outputId": "16ef4386-4984-42c9-ec24-781654ddda6d"
      },
      "execution_count": 8,
      "outputs": [
        {
          "output_type": "execute_result",
          "data": {
            "text/plain": [
              "False"
            ]
          },
          "metadata": {},
          "execution_count": 8
        }
      ]
    },
    {
      "cell_type": "code",
      "source": [
        "type(bool(\"\"))"
      ],
      "metadata": {
        "colab": {
          "base_uri": "https://localhost:8080/"
        },
        "id": "S5vQvOn8leWU",
        "outputId": "b25ec828-6a33-4c90-ecfe-7203aa4512bd"
      },
      "execution_count": 5,
      "outputs": [
        {
          "output_type": "execute_result",
          "data": {
            "text/plain": [
              "bool"
            ]
          },
          "metadata": {},
          "execution_count": 5
        }
      ]
    },
    {
      "cell_type": "markdown",
      "source": [
        "from little experiment above, we know for boolean data convertion aslong there is value will be translate as True value and if there no value will be translate as  False value"
      ],
      "metadata": {
        "id": "-90XYrGEljle"
      }
    },
    {
      "cell_type": "markdown",
      "source": [
        ">integer to boolean"
      ],
      "metadata": {
        "id": "Ny6uV8_yl-RL"
      }
    },
    {
      "cell_type": "code",
      "source": [
        "bool(10)"
      ],
      "metadata": {
        "colab": {
          "base_uri": "https://localhost:8080/"
        },
        "id": "g0M8eTJkmCP3",
        "outputId": "ff89c4ca-2146-486d-e9dc-deb05f045a5b"
      },
      "execution_count": 6,
      "outputs": [
        {
          "output_type": "execute_result",
          "data": {
            "text/plain": [
              "True"
            ]
          },
          "metadata": {},
          "execution_count": 6
        }
      ]
    },
    {
      "cell_type": "code",
      "source": [
        "bool(0)"
      ],
      "metadata": {
        "colab": {
          "base_uri": "https://localhost:8080/"
        },
        "id": "4uKbKbJ6mb9W",
        "outputId": "71db87da-1d90-4463-cab8-f223cf1bb8c9"
      },
      "execution_count": 9,
      "outputs": [
        {
          "output_type": "execute_result",
          "data": {
            "text/plain": [
              "False"
            ]
          },
          "metadata": {},
          "execution_count": 9
        }
      ]
    },
    {
      "cell_type": "code",
      "source": [
        "bool(1)"
      ],
      "metadata": {
        "colab": {
          "base_uri": "https://localhost:8080/"
        },
        "id": "o_QENmSembzq",
        "outputId": "4885686a-03bb-4af2-b6d2-9aa4dce3d8dc"
      },
      "execution_count": 10,
      "outputs": [
        {
          "output_type": "execute_result",
          "data": {
            "text/plain": [
              "True"
            ]
          },
          "metadata": {},
          "execution_count": 10
        }
      ]
    },
    {
      "cell_type": "code",
      "source": [
        "bool()"
      ],
      "metadata": {
        "colab": {
          "base_uri": "https://localhost:8080/"
        },
        "id": "mSeo--B9mgv5",
        "outputId": "b775d0e7-6048-4b97-c0fb-766cb2d5786c"
      },
      "execution_count": 11,
      "outputs": [
        {
          "output_type": "execute_result",
          "data": {
            "text/plain": [
              "False"
            ]
          },
          "metadata": {},
          "execution_count": 11
        }
      ]
    },
    {
      "cell_type": "code",
      "source": [
        "bool(-2)"
      ],
      "metadata": {
        "colab": {
          "base_uri": "https://localhost:8080/"
        },
        "id": "BpdKt-DcmrRg",
        "outputId": "ec7dddff-dfc1-442c-c7df-2d45122f9f13"
      },
      "execution_count": 12,
      "outputs": [
        {
          "output_type": "execute_result",
          "data": {
            "text/plain": [
              "True"
            ]
          },
          "metadata": {},
          "execution_count": 12
        }
      ]
    },
    {
      "cell_type": "markdown",
      "source": [
        "from little experiment above, we know that integer data when covert to boolean data will translate as True as long as not equal to zero or blank"
      ],
      "metadata": {
        "id": "6MtsmVusmk9B"
      }
    },
    {
      "cell_type": "markdown",
      "source": [
        ">float to boolean"
      ],
      "metadata": {
        "id": "pRYXw-H2nGQV"
      }
    },
    {
      "cell_type": "code",
      "source": [
        "bool(0.1)"
      ],
      "metadata": {
        "colab": {
          "base_uri": "https://localhost:8080/"
        },
        "id": "SWjMa4A-pkHS",
        "outputId": "5b6de209-3a1f-4edc-b98e-d3b8120235e1"
      },
      "execution_count": 13,
      "outputs": [
        {
          "output_type": "execute_result",
          "data": {
            "text/plain": [
              "True"
            ]
          },
          "metadata": {},
          "execution_count": 13
        }
      ]
    },
    {
      "cell_type": "code",
      "source": [
        "bool(0.0)"
      ],
      "metadata": {
        "colab": {
          "base_uri": "https://localhost:8080/"
        },
        "id": "PLdTmPiQpt_X",
        "outputId": "6a2f214f-437b-446e-c48c-07cdc300756c"
      },
      "execution_count": 14,
      "outputs": [
        {
          "output_type": "execute_result",
          "data": {
            "text/plain": [
              "False"
            ]
          },
          "metadata": {},
          "execution_count": 14
        }
      ]
    },
    {
      "cell_type": "markdown",
      "source": [
        "from little experiment above, we know that float data convert to boolean will convert as True as long as not 0.0 or blank"
      ],
      "metadata": {
        "id": "K2vahjyFpwup"
      }
    },
    {
      "cell_type": "markdown",
      "source": [
        ">complex to boolean"
      ],
      "metadata": {
        "id": "y9LpWF6_qJno"
      }
    },
    {
      "cell_type": "code",
      "source": [
        "bool(1+3j)"
      ],
      "metadata": {
        "colab": {
          "base_uri": "https://localhost:8080/"
        },
        "id": "ZKoRkQ8rqS7J",
        "outputId": "3801afd9-6641-4fe0-a158-42c5d30d1e45"
      },
      "execution_count": 15,
      "outputs": [
        {
          "output_type": "execute_result",
          "data": {
            "text/plain": [
              "True"
            ]
          },
          "metadata": {},
          "execution_count": 15
        }
      ]
    },
    {
      "cell_type": "code",
      "source": [
        "bool(0j)"
      ],
      "metadata": {
        "colab": {
          "base_uri": "https://localhost:8080/"
        },
        "id": "ZFEwSX59qXrg",
        "outputId": "284d57ef-5b4c-4cf6-b786-0bb286f27e5c"
      },
      "execution_count": 16,
      "outputs": [
        {
          "output_type": "execute_result",
          "data": {
            "text/plain": [
              "False"
            ]
          },
          "metadata": {},
          "execution_count": 16
        }
      ]
    },
    {
      "cell_type": "markdown",
      "source": [
        "complex data will translate as True as long as complex data not same as 0j"
      ],
      "metadata": {
        "id": "ZGOkYDb5qa5i"
      }
    },
    {
      "cell_type": "markdown",
      "source": [
        "so, all data type is eligble to convert to complex type data with spesification:\n",
        "\n",
        "* string as long there value will be convert to True value if blank value will be convert to False\n",
        "* integer will be convert as True value as long as not 0 or blank\n",
        "* float will  be convert as True value as long not 0.0 or blank \n",
        "* complex will be convert as True value as ling not 0j or blank\n"
      ],
      "metadata": {
        "id": "gPI2KYoW0qZF"
      }
    },
    {
      "cell_type": "markdown",
      "source": [
        "#list conversion"
      ],
      "metadata": {
        "id": "UErfR9D9qsXH"
      }
    },
    {
      "cell_type": "markdown",
      "source": [
        ">string to list "
      ],
      "metadata": {
        "id": "NRg3ZBTeq2ya"
      }
    },
    {
      "cell_type": "code",
      "source": [
        "list(\"who knows\")"
      ],
      "metadata": {
        "colab": {
          "base_uri": "https://localhost:8080/"
        },
        "id": "J1mG50buq7s9",
        "outputId": "d59cb8d4-007b-44d1-91d5-e9c24aff39bd"
      },
      "execution_count": 58,
      "outputs": [
        {
          "output_type": "execute_result",
          "data": {
            "text/plain": [
              "['w', 'h', 'o', ' ', 'k', 'n', 'o', 'w', 's']"
            ]
          },
          "metadata": {},
          "execution_count": 58
        }
      ]
    },
    {
      "cell_type": "code",
      "source": [
        "list(\"21th avenue street\")"
      ],
      "metadata": {
        "colab": {
          "base_uri": "https://localhost:8080/"
        },
        "id": "Kf2Y7xEurA1N",
        "outputId": "8896bc65-3d6c-4e12-ecd1-77e3fba44293"
      },
      "execution_count": 22,
      "outputs": [
        {
          "output_type": "execute_result",
          "data": {
            "text/plain": [
              "['2',\n",
              " '1',\n",
              " 't',\n",
              " 'h',\n",
              " ' ',\n",
              " 'a',\n",
              " 'v',\n",
              " 'e',\n",
              " 'n',\n",
              " 'u',\n",
              " 'e',\n",
              " ' ',\n",
              " 's',\n",
              " 't',\n",
              " 'r',\n",
              " 'e',\n",
              " 'e',\n",
              " 't']"
            ]
          },
          "metadata": {},
          "execution_count": 22
        }
      ]
    },
    {
      "cell_type": "code",
      "source": [
        "list(\"2,3,21,31,1,1\")"
      ],
      "metadata": {
        "colab": {
          "base_uri": "https://localhost:8080/"
        },
        "id": "2-ySz5fOrSeS",
        "outputId": "41280e73-9823-47d5-c35e-8389d8abd7ed"
      },
      "execution_count": 23,
      "outputs": [
        {
          "output_type": "execute_result",
          "data": {
            "text/plain": [
              "['2', ',', '3', ',', '2', '1', ',', '3', '1', ',', '1', ',', '1']"
            ]
          },
          "metadata": {},
          "execution_count": 23
        }
      ]
    },
    {
      "cell_type": "markdown",
      "source": [
        "from little experiment above, we know that every element in the string will make up for every element in list seperated by comma and square bracket to begin and end list"
      ],
      "metadata": {
        "id": "ooaUqABsrYc2"
      }
    },
    {
      "cell_type": "markdown",
      "source": [
        ">integer to list"
      ],
      "metadata": {
        "id": "LicnmF1yr0bw"
      }
    },
    {
      "cell_type": "code",
      "source": [
        "list(2)"
      ],
      "metadata": {
        "colab": {
          "base_uri": "https://localhost:8080/",
          "height": 171
        },
        "id": "MxddKrBMr_Rh",
        "outputId": "d335d865-753f-405c-d18c-8c19d69d3d20"
      },
      "execution_count": 25,
      "outputs": [
        {
          "output_type": "error",
          "ename": "TypeError",
          "evalue": "ignored",
          "traceback": [
            "\u001b[0;31m---------------------------------------------------------------------------\u001b[0m",
            "\u001b[0;31mTypeError\u001b[0m                                 Traceback (most recent call last)",
            "\u001b[0;32m<ipython-input-25-c5c3c2b74734>\u001b[0m in \u001b[0;36m<module>\u001b[0;34m()\u001b[0m\n\u001b[0;32m----> 1\u001b[0;31m \u001b[0mlist\u001b[0m\u001b[0;34m(\u001b[0m\u001b[0;36m2\u001b[0m\u001b[0;34m)\u001b[0m\u001b[0;34m\u001b[0m\u001b[0;34m\u001b[0m\u001b[0m\n\u001b[0m",
            "\u001b[0;31mTypeError\u001b[0m: 'int' object is not iterable"
          ]
        }
      ]
    },
    {
      "cell_type": "code",
      "source": [
        "list(2,3,13,1)"
      ],
      "metadata": {
        "colab": {
          "base_uri": "https://localhost:8080/",
          "height": 171
        },
        "id": "EVcHirapr36s",
        "outputId": "dbe70838-79bb-4d55-9d2e-9d12b02013c1"
      },
      "execution_count": 24,
      "outputs": [
        {
          "output_type": "error",
          "ename": "TypeError",
          "evalue": "ignored",
          "traceback": [
            "\u001b[0;31m---------------------------------------------------------------------------\u001b[0m",
            "\u001b[0;31mTypeError\u001b[0m                                 Traceback (most recent call last)",
            "\u001b[0;32m<ipython-input-24-195fd5145f66>\u001b[0m in \u001b[0;36m<module>\u001b[0;34m()\u001b[0m\n\u001b[0;32m----> 1\u001b[0;31m \u001b[0mlist\u001b[0m\u001b[0;34m(\u001b[0m\u001b[0;36m2\u001b[0m\u001b[0;34m,\u001b[0m\u001b[0;36m3\u001b[0m\u001b[0;34m,\u001b[0m\u001b[0;36m13\u001b[0m\u001b[0;34m,\u001b[0m\u001b[0;36m1\u001b[0m\u001b[0;34m)\u001b[0m\u001b[0;34m\u001b[0m\u001b[0;34m\u001b[0m\u001b[0m\n\u001b[0m",
            "\u001b[0;31mTypeError\u001b[0m: list expected at most 1 arguments, got 4"
          ]
        }
      ]
    },
    {
      "cell_type": "markdown",
      "source": [
        "from little experiment, we know that integer can't be convert to list"
      ],
      "metadata": {
        "id": "eSsy-B6EsFUo"
      }
    },
    {
      "cell_type": "markdown",
      "source": [
        ">float to list"
      ],
      "metadata": {
        "id": "EdNc5QBMsYR9"
      }
    },
    {
      "cell_type": "code",
      "source": [
        "list(3.7)"
      ],
      "metadata": {
        "colab": {
          "base_uri": "https://localhost:8080/",
          "height": 171
        },
        "id": "90c57zdisXIO",
        "outputId": "5b6ec057-41dc-4566-9118-0c6957d7a574"
      },
      "execution_count": 26,
      "outputs": [
        {
          "output_type": "error",
          "ename": "TypeError",
          "evalue": "ignored",
          "traceback": [
            "\u001b[0;31m---------------------------------------------------------------------------\u001b[0m",
            "\u001b[0;31mTypeError\u001b[0m                                 Traceback (most recent call last)",
            "\u001b[0;32m<ipython-input-26-b1212e569010>\u001b[0m in \u001b[0;36m<module>\u001b[0;34m()\u001b[0m\n\u001b[0;32m----> 1\u001b[0;31m \u001b[0mlist\u001b[0m\u001b[0;34m(\u001b[0m\u001b[0;36m3.7\u001b[0m\u001b[0;34m)\u001b[0m\u001b[0;34m\u001b[0m\u001b[0;34m\u001b[0m\u001b[0m\n\u001b[0m",
            "\u001b[0;31mTypeError\u001b[0m: 'float' object is not iterable"
          ]
        }
      ]
    },
    {
      "cell_type": "markdown",
      "source": [
        "from little experiment, we know that float type data can't be convert to list"
      ],
      "metadata": {
        "id": "Dk-Pc1_1tic3"
      }
    },
    {
      "cell_type": "markdown",
      "source": [
        ">complex to list"
      ],
      "metadata": {
        "id": "F8AmlntVu0YU"
      }
    },
    {
      "cell_type": "code",
      "source": [
        "list(1+2j)"
      ],
      "metadata": {
        "colab": {
          "base_uri": "https://localhost:8080/",
          "height": 171
        },
        "id": "1rUdas7Xuzcy",
        "outputId": "21ee7715-0e50-4894-a9ea-b6b50290ce48"
      },
      "execution_count": 29,
      "outputs": [
        {
          "output_type": "error",
          "ename": "TypeError",
          "evalue": "ignored",
          "traceback": [
            "\u001b[0;31m---------------------------------------------------------------------------\u001b[0m",
            "\u001b[0;31mTypeError\u001b[0m                                 Traceback (most recent call last)",
            "\u001b[0;32m<ipython-input-29-e467be042e66>\u001b[0m in \u001b[0;36m<module>\u001b[0;34m()\u001b[0m\n\u001b[0;32m----> 1\u001b[0;31m \u001b[0mlist\u001b[0m\u001b[0;34m(\u001b[0m\u001b[0;36m1\u001b[0m\u001b[0;34m+\u001b[0m\u001b[0;36m2j\u001b[0m\u001b[0;34m)\u001b[0m\u001b[0;34m\u001b[0m\u001b[0;34m\u001b[0m\u001b[0m\n\u001b[0m",
            "\u001b[0;31mTypeError\u001b[0m: 'complex' object is not iterable"
          ]
        }
      ]
    },
    {
      "cell_type": "markdown",
      "source": [
        "from little experiment above, we know that complex type data can't be convert to list"
      ],
      "metadata": {
        "id": "DVLmgDAtwvR2"
      }
    },
    {
      "cell_type": "markdown",
      "source": [
        ">tuple to list"
      ],
      "metadata": {
        "id": "-gyrQ8fww38M"
      }
    },
    {
      "cell_type": "code",
      "source": [
        "list((2,4,1.4,31,\"string\"))"
      ],
      "metadata": {
        "colab": {
          "base_uri": "https://localhost:8080/"
        },
        "id": "FfVktC8BxPbC",
        "outputId": "3c00b672-57c4-42f4-aa3c-a8bc025b5487"
      },
      "execution_count": 30,
      "outputs": [
        {
          "output_type": "execute_result",
          "data": {
            "text/plain": [
              "[2, 4, 1.4, 31, 'string']"
            ]
          },
          "metadata": {},
          "execution_count": 30
        }
      ]
    },
    {
      "cell_type": "markdown",
      "source": [
        ">dictionary to list"
      ],
      "metadata": {
        "id": "8-Cpm8WAw81h"
      }
    },
    {
      "cell_type": "code",
      "source": [
        "list({\"key\":\"word\",1:\"affection\",2.1:\"special\",2.2:\"forever\"})"
      ],
      "metadata": {
        "colab": {
          "base_uri": "https://localhost:8080/"
        },
        "id": "wxj5T-4nxXm_",
        "outputId": "b76208e2-e4c1-4dcc-9dc0-173bc5cbf3cb"
      },
      "execution_count": 31,
      "outputs": [
        {
          "output_type": "execute_result",
          "data": {
            "text/plain": [
              "['key', 1, 2.1, 2.2]"
            ]
          },
          "metadata": {},
          "execution_count": 31
        }
      ]
    },
    {
      "cell_type": "markdown",
      "source": [
        ">set to list"
      ],
      "metadata": {
        "id": "73cX_cI7xBNN"
      }
    },
    {
      "cell_type": "code",
      "source": [
        "list({2,1,1,9.0})"
      ],
      "metadata": {
        "colab": {
          "base_uri": "https://localhost:8080/"
        },
        "id": "LJjlorWzx0Jk",
        "outputId": "384d8154-0678-42c5-de5c-d36fec6439e0"
      },
      "execution_count": 32,
      "outputs": [
        {
          "output_type": "execute_result",
          "data": {
            "text/plain": [
              "[1, 2, 9.0]"
            ]
          },
          "metadata": {},
          "execution_count": 32
        }
      ]
    },
    {
      "cell_type": "markdown",
      "source": [
        "so, data type eligble for covert to list is:\n",
        "\n",
        "* string with each element in string is convert to each element that seperated by comma inside square bracket \n",
        "* tuple change in parentheses to square bracket\n",
        "* dictioary only key will be convert to element in list and value will be discard\n",
        "* set duplicated number will gone first cause set unique characteristic"
      ],
      "metadata": {
        "id": "Li5KJtmA6lGb"
      }
    },
    {
      "cell_type": "markdown",
      "source": [
        "# tuple conversion"
      ],
      "metadata": {
        "id": "9aJ6hJFG2ghY"
      }
    },
    {
      "cell_type": "markdown",
      "source": [
        ">string to tuple"
      ],
      "metadata": {
        "id": "YAxBsq-Y24jg"
      }
    },
    {
      "cell_type": "code",
      "source": [
        "tuple(\"halo\")"
      ],
      "metadata": {
        "colab": {
          "base_uri": "https://localhost:8080/"
        },
        "id": "suj7p0pG8VBI",
        "outputId": "48abe337-120c-496b-8dfb-fe8e840537a5"
      },
      "execution_count": 35,
      "outputs": [
        {
          "output_type": "execute_result",
          "data": {
            "text/plain": [
              "('h', 'a', 'l', 'o')"
            ]
          },
          "metadata": {},
          "execution_count": 35
        }
      ]
    },
    {
      "cell_type": "markdown",
      "source": [
        ">integer to tuple"
      ],
      "metadata": {
        "id": "V_0J1b863Rw0"
      }
    },
    {
      "cell_type": "code",
      "source": [
        "tuple(21)"
      ],
      "metadata": {
        "colab": {
          "base_uri": "https://localhost:8080/",
          "height": 171
        },
        "id": "HwFIRl0G8ZAy",
        "outputId": "01c98986-6c3d-473a-ec61-45088d5fb815"
      },
      "execution_count": 36,
      "outputs": [
        {
          "output_type": "error",
          "ename": "TypeError",
          "evalue": "ignored",
          "traceback": [
            "\u001b[0;31m---------------------------------------------------------------------------\u001b[0m",
            "\u001b[0;31mTypeError\u001b[0m                                 Traceback (most recent call last)",
            "\u001b[0;32m<ipython-input-36-2e7bfaeab0b7>\u001b[0m in \u001b[0;36m<module>\u001b[0;34m()\u001b[0m\n\u001b[0;32m----> 1\u001b[0;31m \u001b[0mtuple\u001b[0m\u001b[0;34m(\u001b[0m\u001b[0;36m21\u001b[0m\u001b[0;34m)\u001b[0m\u001b[0;34m\u001b[0m\u001b[0;34m\u001b[0m\u001b[0m\n\u001b[0m",
            "\u001b[0;31mTypeError\u001b[0m: 'int' object is not iterable"
          ]
        }
      ]
    },
    {
      "cell_type": "markdown",
      "source": [
        ">float to tuple"
      ],
      "metadata": {
        "id": "JHOr35Ls3WKx"
      }
    },
    {
      "cell_type": "code",
      "source": [
        "tuple(21.9)"
      ],
      "metadata": {
        "colab": {
          "base_uri": "https://localhost:8080/",
          "height": 171
        },
        "id": "5sh3n_Z48dDl",
        "outputId": "47e47ccc-8628-4c36-ce87-4bec0c59e75c"
      },
      "execution_count": 37,
      "outputs": [
        {
          "output_type": "error",
          "ename": "TypeError",
          "evalue": "ignored",
          "traceback": [
            "\u001b[0;31m---------------------------------------------------------------------------\u001b[0m",
            "\u001b[0;31mTypeError\u001b[0m                                 Traceback (most recent call last)",
            "\u001b[0;32m<ipython-input-37-da5a880cd8b1>\u001b[0m in \u001b[0;36m<module>\u001b[0;34m()\u001b[0m\n\u001b[0;32m----> 1\u001b[0;31m \u001b[0mtuple\u001b[0m\u001b[0;34m(\u001b[0m\u001b[0;36m21.9\u001b[0m\u001b[0;34m)\u001b[0m\u001b[0;34m\u001b[0m\u001b[0;34m\u001b[0m\u001b[0m\n\u001b[0m",
            "\u001b[0;31mTypeError\u001b[0m: 'float' object is not iterable"
          ]
        }
      ]
    },
    {
      "cell_type": "markdown",
      "source": [
        ">imaginer to tuple"
      ],
      "metadata": {
        "id": "qboI4m4M3aby"
      }
    },
    {
      "cell_type": "code",
      "source": [
        "tuple(1+2j)"
      ],
      "metadata": {
        "colab": {
          "base_uri": "https://localhost:8080/",
          "height": 171
        },
        "id": "K5eeCKJQ8hoe",
        "outputId": "fe7ffc47-473b-4c58-a2d0-5e488066bad3"
      },
      "execution_count": 38,
      "outputs": [
        {
          "output_type": "error",
          "ename": "TypeError",
          "evalue": "ignored",
          "traceback": [
            "\u001b[0;31m---------------------------------------------------------------------------\u001b[0m",
            "\u001b[0;31mTypeError\u001b[0m                                 Traceback (most recent call last)",
            "\u001b[0;32m<ipython-input-38-0e60e961bf16>\u001b[0m in \u001b[0;36m<module>\u001b[0;34m()\u001b[0m\n\u001b[0;32m----> 1\u001b[0;31m \u001b[0mtuple\u001b[0m\u001b[0;34m(\u001b[0m\u001b[0;36m1\u001b[0m\u001b[0;34m+\u001b[0m\u001b[0;36m2j\u001b[0m\u001b[0;34m)\u001b[0m\u001b[0;34m\u001b[0m\u001b[0;34m\u001b[0m\u001b[0m\n\u001b[0m",
            "\u001b[0;31mTypeError\u001b[0m: 'complex' object is not iterable"
          ]
        }
      ]
    },
    {
      "cell_type": "markdown",
      "source": [
        ">boolean to tuple"
      ],
      "metadata": {
        "id": "omsPtcZm3f-8"
      }
    },
    {
      "cell_type": "code",
      "source": [
        "tuple(True)"
      ],
      "metadata": {
        "colab": {
          "base_uri": "https://localhost:8080/",
          "height": 171
        },
        "id": "kGRUPUNc8luB",
        "outputId": "8bbf87e5-cde2-48ce-95f8-97f30a5c7eeb"
      },
      "execution_count": 39,
      "outputs": [
        {
          "output_type": "error",
          "ename": "TypeError",
          "evalue": "ignored",
          "traceback": [
            "\u001b[0;31m---------------------------------------------------------------------------\u001b[0m",
            "\u001b[0;31mTypeError\u001b[0m                                 Traceback (most recent call last)",
            "\u001b[0;32m<ipython-input-39-99ab3290bae0>\u001b[0m in \u001b[0;36m<module>\u001b[0;34m()\u001b[0m\n\u001b[0;32m----> 1\u001b[0;31m \u001b[0mtuple\u001b[0m\u001b[0;34m(\u001b[0m\u001b[0;32mTrue\u001b[0m\u001b[0;34m)\u001b[0m\u001b[0;34m\u001b[0m\u001b[0;34m\u001b[0m\u001b[0m\n\u001b[0m",
            "\u001b[0;31mTypeError\u001b[0m: 'bool' object is not iterable"
          ]
        }
      ]
    },
    {
      "cell_type": "markdown",
      "source": [
        ">list to tuple"
      ],
      "metadata": {
        "id": "tgK-NWbR2_vD"
      }
    },
    {
      "cell_type": "code",
      "source": [
        "tuple([2,9,1.2,\"halo\"])"
      ],
      "metadata": {
        "colab": {
          "base_uri": "https://localhost:8080/"
        },
        "id": "o7nvOpZL8sLv",
        "outputId": "56e4e542-03dd-4e84-b608-7a403f949439"
      },
      "execution_count": 40,
      "outputs": [
        {
          "output_type": "execute_result",
          "data": {
            "text/plain": [
              "(2, 9, 1.2, 'halo')"
            ]
          },
          "metadata": {},
          "execution_count": 40
        }
      ]
    },
    {
      "cell_type": "markdown",
      "source": [
        ">dictionary to tuple"
      ],
      "metadata": {
        "id": "6cDBEu4i6Sx5"
      }
    },
    {
      "cell_type": "code",
      "source": [
        "tuple({1:\"name\",2.1:\"address\",2.2:\"birth place\"})"
      ],
      "metadata": {
        "colab": {
          "base_uri": "https://localhost:8080/"
        },
        "id": "d8FcJCYy83ei",
        "outputId": "10178932-44c3-4259-cdf8-dd17287e2dc6"
      },
      "execution_count": 59,
      "outputs": [
        {
          "output_type": "execute_result",
          "data": {
            "text/plain": [
              "(1, 2.1, 2.2)"
            ]
          },
          "metadata": {},
          "execution_count": 59
        }
      ]
    },
    {
      "cell_type": "markdown",
      "source": [
        ">set to tuple"
      ],
      "metadata": {
        "id": "huy7TpS46WKw"
      }
    },
    {
      "cell_type": "code",
      "source": [
        "tuple({1,9,9,1.2,\"jkl\"})"
      ],
      "metadata": {
        "colab": {
          "base_uri": "https://localhost:8080/"
        },
        "id": "8hk1pufa9HVG",
        "outputId": "fa82b33f-9240-4b73-b1a9-a1bc4586ef81"
      },
      "execution_count": 42,
      "outputs": [
        {
          "output_type": "execute_result",
          "data": {
            "text/plain": [
              "(1.2, 1, 'jkl', 9)"
            ]
          },
          "metadata": {},
          "execution_count": 42
        }
      ]
    },
    {
      "cell_type": "markdown",
      "source": [
        "so, data type eligble for covert to tuple is:\n",
        "\n",
        "* string with each element in string is convert to each element that seperated by comma inside parentheses \n",
        "* list change in square bracket to paretheses\n",
        "* dictioary only key will be convert to element in tuple and value will be discard\n",
        "* set duplicated number will gone first cause set unique characteristic"
      ],
      "metadata": {
        "id": "BQIT_C139jAh"
      }
    },
    {
      "cell_type": "markdown",
      "source": [
        "#dictionary conversion"
      ],
      "metadata": {
        "id": "iqOPZikJ2noa"
      }
    },
    {
      "cell_type": "markdown",
      "source": [
        ">string to dictionary"
      ],
      "metadata": {
        "id": "FrMf4pgr3n2D"
      }
    },
    {
      "cell_type": "code",
      "source": [
        "dict(\"enchards siegehart\")"
      ],
      "metadata": {
        "colab": {
          "base_uri": "https://localhost:8080/",
          "height": 171
        },
        "id": "jS8ZZmsB-DL6",
        "outputId": "9c8ae573-e38a-45ed-bf9e-29e8430d77f7"
      },
      "execution_count": 48,
      "outputs": [
        {
          "output_type": "error",
          "ename": "ValueError",
          "evalue": "ignored",
          "traceback": [
            "\u001b[0;31m---------------------------------------------------------------------------\u001b[0m",
            "\u001b[0;31mValueError\u001b[0m                                Traceback (most recent call last)",
            "\u001b[0;32m<ipython-input-48-8c99b232e174>\u001b[0m in \u001b[0;36m<module>\u001b[0;34m()\u001b[0m\n\u001b[0;32m----> 1\u001b[0;31m \u001b[0mdict\u001b[0m\u001b[0;34m(\u001b[0m\u001b[0;34m\"halo siapa\"\u001b[0m\u001b[0;34m)\u001b[0m\u001b[0;34m\u001b[0m\u001b[0;34m\u001b[0m\u001b[0m\n\u001b[0m",
            "\u001b[0;31mValueError\u001b[0m: dictionary update sequence element #0 has length 1; 2 is required"
          ]
        }
      ]
    },
    {
      "cell_type": "markdown",
      "source": [
        ">integer to dictionary"
      ],
      "metadata": {
        "id": "pi0vPWh13r5P"
      }
    },
    {
      "cell_type": "code",
      "source": [
        "dict(2)"
      ],
      "metadata": {
        "colab": {
          "base_uri": "https://localhost:8080/",
          "height": 171
        },
        "id": "MCUXrZY6-toS",
        "outputId": "dc745d61-af1b-4a16-c0bf-b12eb78c676e"
      },
      "execution_count": 45,
      "outputs": [
        {
          "output_type": "error",
          "ename": "TypeError",
          "evalue": "ignored",
          "traceback": [
            "\u001b[0;31m---------------------------------------------------------------------------\u001b[0m",
            "\u001b[0;31mTypeError\u001b[0m                                 Traceback (most recent call last)",
            "\u001b[0;32m<ipython-input-45-62038b02c0ef>\u001b[0m in \u001b[0;36m<module>\u001b[0;34m()\u001b[0m\n\u001b[0;32m----> 1\u001b[0;31m \u001b[0mdict\u001b[0m\u001b[0;34m(\u001b[0m\u001b[0;36m2\u001b[0m\u001b[0;34m)\u001b[0m\u001b[0;34m\u001b[0m\u001b[0;34m\u001b[0m\u001b[0m\n\u001b[0m",
            "\u001b[0;31mTypeError\u001b[0m: 'int' object is not iterable"
          ]
        }
      ]
    },
    {
      "cell_type": "markdown",
      "source": [
        ">float to dictionary"
      ],
      "metadata": {
        "id": "AAqT4iTs30rc"
      }
    },
    {
      "cell_type": "code",
      "source": [
        "dict(2.1)"
      ],
      "metadata": {
        "colab": {
          "base_uri": "https://localhost:8080/",
          "height": 171
        },
        "id": "qeqa0ZHX_uEf",
        "outputId": "23d3b6f1-c398-4f99-ae0a-b709ad66b1fb"
      },
      "execution_count": 49,
      "outputs": [
        {
          "output_type": "error",
          "ename": "TypeError",
          "evalue": "ignored",
          "traceback": [
            "\u001b[0;31m---------------------------------------------------------------------------\u001b[0m",
            "\u001b[0;31mTypeError\u001b[0m                                 Traceback (most recent call last)",
            "\u001b[0;32m<ipython-input-49-698fb087d92d>\u001b[0m in \u001b[0;36m<module>\u001b[0;34m()\u001b[0m\n\u001b[0;32m----> 1\u001b[0;31m \u001b[0mdict\u001b[0m\u001b[0;34m(\u001b[0m\u001b[0;36m2.1\u001b[0m\u001b[0;34m)\u001b[0m\u001b[0;34m\u001b[0m\u001b[0;34m\u001b[0m\u001b[0m\n\u001b[0m",
            "\u001b[0;31mTypeError\u001b[0m: 'float' object is not iterable"
          ]
        }
      ]
    },
    {
      "cell_type": "markdown",
      "source": [
        ">complex to dictionary"
      ],
      "metadata": {
        "id": "LF3q1DA74FYj"
      }
    },
    {
      "cell_type": "code",
      "source": [
        "dict(1+2j)"
      ],
      "metadata": {
        "colab": {
          "base_uri": "https://localhost:8080/",
          "height": 171
        },
        "id": "jqpOYhP8Ba36",
        "outputId": "e73eecc8-11d6-4d74-ee37-57b85a4f062f"
      },
      "execution_count": 50,
      "outputs": [
        {
          "output_type": "error",
          "ename": "TypeError",
          "evalue": "ignored",
          "traceback": [
            "\u001b[0;31m---------------------------------------------------------------------------\u001b[0m",
            "\u001b[0;31mTypeError\u001b[0m                                 Traceback (most recent call last)",
            "\u001b[0;32m<ipython-input-50-fe328981cbd0>\u001b[0m in \u001b[0;36m<module>\u001b[0;34m()\u001b[0m\n\u001b[0;32m----> 1\u001b[0;31m \u001b[0mdict\u001b[0m\u001b[0;34m(\u001b[0m\u001b[0;36m1\u001b[0m\u001b[0;34m+\u001b[0m\u001b[0;36m2j\u001b[0m\u001b[0;34m)\u001b[0m\u001b[0;34m\u001b[0m\u001b[0;34m\u001b[0m\u001b[0m\n\u001b[0m",
            "\u001b[0;31mTypeError\u001b[0m: 'complex' object is not iterable"
          ]
        }
      ]
    },
    {
      "cell_type": "markdown",
      "source": [
        ">boolean to dictionary"
      ],
      "metadata": {
        "id": "-fBI3Eq24JVM"
      }
    },
    {
      "cell_type": "code",
      "source": [
        "dict(True)"
      ],
      "metadata": {
        "colab": {
          "base_uri": "https://localhost:8080/",
          "height": 171
        },
        "id": "rB-3gdrvBg49",
        "outputId": "777f8e22-d1b1-48c9-ee7b-86559ecf164b"
      },
      "execution_count": 51,
      "outputs": [
        {
          "output_type": "error",
          "ename": "TypeError",
          "evalue": "ignored",
          "traceback": [
            "\u001b[0;31m---------------------------------------------------------------------------\u001b[0m",
            "\u001b[0;31mTypeError\u001b[0m                                 Traceback (most recent call last)",
            "\u001b[0;32m<ipython-input-51-71b7b3e8198a>\u001b[0m in \u001b[0;36m<module>\u001b[0;34m()\u001b[0m\n\u001b[0;32m----> 1\u001b[0;31m \u001b[0mdict\u001b[0m\u001b[0;34m(\u001b[0m\u001b[0;32mTrue\u001b[0m\u001b[0;34m)\u001b[0m\u001b[0;34m\u001b[0m\u001b[0;34m\u001b[0m\u001b[0m\n\u001b[0m",
            "\u001b[0;31mTypeError\u001b[0m: 'bool' object is not iterable"
          ]
        }
      ]
    },
    {
      "cell_type": "markdown",
      "source": [
        ">list to dictionary"
      ],
      "metadata": {
        "id": "EY9pYAfe4PWE"
      }
    },
    {
      "cell_type": "code",
      "source": [
        "dict([[2]])"
      ],
      "metadata": {
        "colab": {
          "base_uri": "https://localhost:8080/",
          "height": 171
        },
        "id": "IMvsojSPHOg1",
        "outputId": "5984e62b-2e09-47a5-a0d2-e3a506cac918"
      },
      "execution_count": 69,
      "outputs": [
        {
          "output_type": "error",
          "ename": "ValueError",
          "evalue": "ignored",
          "traceback": [
            "\u001b[0;31m---------------------------------------------------------------------------\u001b[0m",
            "\u001b[0;31mValueError\u001b[0m                                Traceback (most recent call last)",
            "\u001b[0;32m<ipython-input-69-356e2e27c4eb>\u001b[0m in \u001b[0;36m<module>\u001b[0;34m()\u001b[0m\n\u001b[0;32m----> 1\u001b[0;31m \u001b[0mdict\u001b[0m\u001b[0;34m(\u001b[0m\u001b[0;34m[\u001b[0m\u001b[0;34m[\u001b[0m\u001b[0;36m2\u001b[0m\u001b[0;34m]\u001b[0m\u001b[0;34m]\u001b[0m\u001b[0;34m)\u001b[0m\u001b[0;34m\u001b[0m\u001b[0;34m\u001b[0m\u001b[0m\n\u001b[0m",
            "\u001b[0;31mValueError\u001b[0m: dictionary update sequence element #0 has length 1; 2 is required"
          ]
        }
      ]
    },
    {
      "cell_type": "code",
      "source": [
        "dict([[2,\"who\"]])"
      ],
      "metadata": {
        "colab": {
          "base_uri": "https://localhost:8080/"
        },
        "id": "gfVqsx6fBquG",
        "outputId": "b79486b7-4f69-40c7-ae0f-7a194c124556"
      },
      "execution_count": 65,
      "outputs": [
        {
          "output_type": "execute_result",
          "data": {
            "text/plain": [
              "{2: 'who'}"
            ]
          },
          "metadata": {},
          "execution_count": 65
        }
      ]
    },
    {
      "cell_type": "code",
      "source": [
        "dict([[2,\"who\"],[3,\"nice to meet you\"]])"
      ],
      "metadata": {
        "colab": {
          "base_uri": "https://localhost:8080/"
        },
        "id": "H4z5ANrXG2MA",
        "outputId": "70adb8be-b5af-4553-c666-b00142a95aea"
      },
      "execution_count": 66,
      "outputs": [
        {
          "output_type": "execute_result",
          "data": {
            "text/plain": [
              "{2: 'who', 3: 'nice to meet you'}"
            ]
          },
          "metadata": {},
          "execution_count": 66
        }
      ]
    },
    {
      "cell_type": "code",
      "source": [
        "dict([[4,5,9],[6,7,9]])"
      ],
      "metadata": {
        "colab": {
          "base_uri": "https://localhost:8080/",
          "height": 165
        },
        "id": "_NxfZ5O_Xork",
        "outputId": "5c4779d8-9652-4d4d-ac19-bbf26c05bb79"
      },
      "execution_count": null,
      "outputs": [
        {
          "output_type": "error",
          "ename": "ValueError",
          "evalue": "ignored",
          "traceback": [
            "\u001b[0;31m---------------------------------------------------------------------------\u001b[0m",
            "\u001b[0;31mValueError\u001b[0m                                Traceback (most recent call last)",
            "\u001b[0;32m<ipython-input-9-a7dbb8e79b64>\u001b[0m in \u001b[0;36m<module>\u001b[0;34m()\u001b[0m\n\u001b[0;32m----> 1\u001b[0;31m \u001b[0mdict\u001b[0m\u001b[0;34m(\u001b[0m\u001b[0;34m[\u001b[0m\u001b[0;34m[\u001b[0m\u001b[0;36m4\u001b[0m\u001b[0;34m,\u001b[0m\u001b[0;36m5\u001b[0m\u001b[0;34m,\u001b[0m\u001b[0;36m9\u001b[0m\u001b[0;34m]\u001b[0m\u001b[0;34m,\u001b[0m\u001b[0;34m[\u001b[0m\u001b[0;36m6\u001b[0m\u001b[0;34m,\u001b[0m\u001b[0;36m7\u001b[0m\u001b[0;34m,\u001b[0m\u001b[0;36m9\u001b[0m\u001b[0;34m]\u001b[0m\u001b[0;34m]\u001b[0m\u001b[0;34m)\u001b[0m\u001b[0;34m\u001b[0m\u001b[0;34m\u001b[0m\u001b[0m\n\u001b[0m",
            "\u001b[0;31mValueError\u001b[0m: dictionary update sequence element #0 has length 3; 2 is required"
          ]
        }
      ]
    },
    {
      "cell_type": "markdown",
      "source": [
        ">tuple to dictionary"
      ],
      "metadata": {
        "id": "p1p98otb4V-e"
      }
    },
    {
      "cell_type": "code",
      "source": [
        "dict(((4,5),(6,7)))"
      ],
      "metadata": {
        "colab": {
          "base_uri": "https://localhost:8080/"
        },
        "id": "ffzhbIofXok9",
        "outputId": "beffe53c-aec2-429e-c20c-a30657131cd5"
      },
      "execution_count": null,
      "outputs": [
        {
          "output_type": "execute_result",
          "data": {
            "text/plain": [
              "{4: 5, 6: 7}"
            ]
          },
          "metadata": {},
          "execution_count": 11
        }
      ]
    },
    {
      "cell_type": "code",
      "source": [
        "dict((('odd', 3.0),(\"odd 2\",5.0)))"
      ],
      "metadata": {
        "colab": {
          "base_uri": "https://localhost:8080/"
        },
        "id": "wVF9U3Yvb2D_",
        "outputId": "62fe44b8-7d1a-4ef0-d3dd-0e18c32d95bc"
      },
      "execution_count": 60,
      "outputs": [
        {
          "output_type": "execute_result",
          "data": {
            "text/plain": [
              "{'odd': 3.0, 'odd 2': 5.0}"
            ]
          },
          "metadata": {},
          "execution_count": 60
        }
      ]
    },
    {
      "cell_type": "code",
      "source": [
        "dict((('odd', 3.0,7.0),(\"odd 2\",5.0,9.0)))"
      ],
      "metadata": {
        "colab": {
          "base_uri": "https://localhost:8080/",
          "height": 171
        },
        "id": "EtOM4j2xGhM5",
        "outputId": "176f330e-03aa-47bd-bd05-a1b0d8cb834f"
      },
      "execution_count": 64,
      "outputs": [
        {
          "output_type": "error",
          "ename": "ValueError",
          "evalue": "ignored",
          "traceback": [
            "\u001b[0;31m---------------------------------------------------------------------------\u001b[0m",
            "\u001b[0;31mValueError\u001b[0m                                Traceback (most recent call last)",
            "\u001b[0;32m<ipython-input-64-880fd0f3187b>\u001b[0m in \u001b[0;36m<module>\u001b[0;34m()\u001b[0m\n\u001b[0;32m----> 1\u001b[0;31m \u001b[0mdict\u001b[0m\u001b[0;34m(\u001b[0m\u001b[0;34m(\u001b[0m\u001b[0;34m(\u001b[0m\u001b[0;34m'odd'\u001b[0m\u001b[0;34m,\u001b[0m \u001b[0;36m3.0\u001b[0m\u001b[0;34m,\u001b[0m\u001b[0;36m7.0\u001b[0m\u001b[0;34m)\u001b[0m\u001b[0;34m,\u001b[0m\u001b[0;34m(\u001b[0m\u001b[0;34m\"odd 2\"\u001b[0m\u001b[0;34m,\u001b[0m\u001b[0;36m5.0\u001b[0m\u001b[0;34m,\u001b[0m\u001b[0;36m9.0\u001b[0m\u001b[0;34m)\u001b[0m\u001b[0;34m)\u001b[0m\u001b[0;34m)\u001b[0m\u001b[0;34m\u001b[0m\u001b[0;34m\u001b[0m\u001b[0m\n\u001b[0m",
            "\u001b[0;31mValueError\u001b[0m: dictionary update sequence element #0 has length 3; 2 is required"
          ]
        }
      ]
    },
    {
      "cell_type": "markdown",
      "source": [
        ">set to dictionary"
      ],
      "metadata": {
        "id": "Wi7r8pxE4b4z"
      }
    },
    {
      "cell_type": "code",
      "source": [
        "dict({{3,9}})"
      ],
      "metadata": {
        "colab": {
          "base_uri": "https://localhost:8080/",
          "height": 171
        },
        "id": "WRP26mQoEyBz",
        "outputId": "ea222ba1-4a7e-4d56-ae1d-f0d2abc7a5b5"
      },
      "execution_count": 63,
      "outputs": [
        {
          "output_type": "error",
          "ename": "TypeError",
          "evalue": "ignored",
          "traceback": [
            "\u001b[0;31m---------------------------------------------------------------------------\u001b[0m",
            "\u001b[0;31mTypeError\u001b[0m                                 Traceback (most recent call last)",
            "\u001b[0;32m<ipython-input-63-e6b2e7628ab8>\u001b[0m in \u001b[0;36m<module>\u001b[0;34m()\u001b[0m\n\u001b[0;32m----> 1\u001b[0;31m \u001b[0mdict\u001b[0m\u001b[0;34m(\u001b[0m\u001b[0;34m{\u001b[0m\u001b[0;34m{\u001b[0m\u001b[0;36m3\u001b[0m\u001b[0;34m,\u001b[0m\u001b[0;36m9\u001b[0m\u001b[0;34m}\u001b[0m\u001b[0;34m}\u001b[0m\u001b[0;34m)\u001b[0m\u001b[0;34m\u001b[0m\u001b[0;34m\u001b[0m\u001b[0m\n\u001b[0m",
            "\u001b[0;31mTypeError\u001b[0m: unhashable type: 'set'"
          ]
        }
      ]
    },
    {
      "cell_type": "markdown",
      "source": [
        "type data eligble to convert to dictionary:\n",
        "\n",
        "* list\n",
        "* tuple\n",
        "\n",
        "note: to convert sequence data need to be in pair and can't be convert if above or below 2 element"
      ],
      "metadata": {
        "id": "M07UzQXtFRRZ"
      }
    },
    {
      "cell_type": "markdown",
      "source": [
        "# set conversion"
      ],
      "metadata": {
        "id": "lA4gYlXA2naj"
      }
    },
    {
      "cell_type": "markdown",
      "source": [
        ">string to set"
      ],
      "metadata": {
        "id": "N8RWa7-f4uOG"
      }
    },
    {
      "cell_type": "code",
      "source": [
        "set(\"halo\")"
      ],
      "metadata": {
        "colab": {
          "base_uri": "https://localhost:8080/"
        },
        "id": "ZB6r4PgyHdLO",
        "outputId": "e93ef0e9-85f5-41ac-b97a-0378ee3a8e2f"
      },
      "execution_count": 70,
      "outputs": [
        {
          "output_type": "execute_result",
          "data": {
            "text/plain": [
              "{'a', 'h', 'l', 'o'}"
            ]
          },
          "metadata": {},
          "execution_count": 70
        }
      ]
    },
    {
      "cell_type": "code",
      "source": [
        "set(\"enchards siegehart\")"
      ],
      "metadata": {
        "colab": {
          "base_uri": "https://localhost:8080/"
        },
        "id": "IKV_QHkNHh_Z",
        "outputId": "3910357a-af15-4b8b-cac4-8305604b08b2"
      },
      "execution_count": 72,
      "outputs": [
        {
          "output_type": "execute_result",
          "data": {
            "text/plain": [
              "{' ', 'a', 'c', 'd', 'e', 'g', 'h', 'i', 'n', 'r', 's', 't'}"
            ]
          },
          "metadata": {},
          "execution_count": 72
        }
      ]
    },
    {
      "cell_type": "markdown",
      "source": [
        ">integer to set"
      ],
      "metadata": {
        "id": "XvjIpOVT4uOG"
      }
    },
    {
      "cell_type": "code",
      "source": [
        "set(2)"
      ],
      "metadata": {
        "colab": {
          "base_uri": "https://localhost:8080/",
          "height": 171
        },
        "id": "9IyhhO2vHqMD",
        "outputId": "a2f71cef-0674-4327-e069-1f7e3953c91a"
      },
      "execution_count": 73,
      "outputs": [
        {
          "output_type": "error",
          "ename": "TypeError",
          "evalue": "ignored",
          "traceback": [
            "\u001b[0;31m---------------------------------------------------------------------------\u001b[0m",
            "\u001b[0;31mTypeError\u001b[0m                                 Traceback (most recent call last)",
            "\u001b[0;32m<ipython-input-73-da7aa7ff7951>\u001b[0m in \u001b[0;36m<module>\u001b[0;34m()\u001b[0m\n\u001b[0;32m----> 1\u001b[0;31m \u001b[0mset\u001b[0m\u001b[0;34m(\u001b[0m\u001b[0;36m2\u001b[0m\u001b[0;34m)\u001b[0m\u001b[0;34m\u001b[0m\u001b[0;34m\u001b[0m\u001b[0m\n\u001b[0m",
            "\u001b[0;31mTypeError\u001b[0m: 'int' object is not iterable"
          ]
        }
      ]
    },
    {
      "cell_type": "markdown",
      "source": [
        ">float to set"
      ],
      "metadata": {
        "id": "HMFOQYd14uOG"
      }
    },
    {
      "cell_type": "code",
      "source": [
        "set(9.0)"
      ],
      "metadata": {
        "colab": {
          "base_uri": "https://localhost:8080/",
          "height": 171
        },
        "id": "sxuzKzroHvjW",
        "outputId": "6fb8ee64-f180-4361-e76a-a168806f1522"
      },
      "execution_count": 74,
      "outputs": [
        {
          "output_type": "error",
          "ename": "TypeError",
          "evalue": "ignored",
          "traceback": [
            "\u001b[0;31m---------------------------------------------------------------------------\u001b[0m",
            "\u001b[0;31mTypeError\u001b[0m                                 Traceback (most recent call last)",
            "\u001b[0;32m<ipython-input-74-dfcf86c0f6de>\u001b[0m in \u001b[0;36m<module>\u001b[0;34m()\u001b[0m\n\u001b[0;32m----> 1\u001b[0;31m \u001b[0mset\u001b[0m\u001b[0;34m(\u001b[0m\u001b[0;36m9.0\u001b[0m\u001b[0;34m)\u001b[0m\u001b[0;34m\u001b[0m\u001b[0;34m\u001b[0m\u001b[0m\n\u001b[0m",
            "\u001b[0;31mTypeError\u001b[0m: 'float' object is not iterable"
          ]
        }
      ]
    },
    {
      "cell_type": "markdown",
      "source": [
        ">imaginer to set"
      ],
      "metadata": {
        "id": "RbcYUezU4uOH"
      }
    },
    {
      "cell_type": "code",
      "source": [
        "set(1+2j)"
      ],
      "metadata": {
        "colab": {
          "base_uri": "https://localhost:8080/",
          "height": 171
        },
        "id": "by2zL2H2H9L5",
        "outputId": "9dbbe3b4-694c-4e02-f4d9-fea65eedfe1d"
      },
      "execution_count": 75,
      "outputs": [
        {
          "output_type": "error",
          "ename": "TypeError",
          "evalue": "ignored",
          "traceback": [
            "\u001b[0;31m---------------------------------------------------------------------------\u001b[0m",
            "\u001b[0;31mTypeError\u001b[0m                                 Traceback (most recent call last)",
            "\u001b[0;32m<ipython-input-75-795127e007ed>\u001b[0m in \u001b[0;36m<module>\u001b[0;34m()\u001b[0m\n\u001b[0;32m----> 1\u001b[0;31m \u001b[0mset\u001b[0m\u001b[0;34m(\u001b[0m\u001b[0;36m1\u001b[0m\u001b[0;34m+\u001b[0m\u001b[0;36m2j\u001b[0m\u001b[0;34m)\u001b[0m\u001b[0;34m\u001b[0m\u001b[0;34m\u001b[0m\u001b[0m\n\u001b[0m",
            "\u001b[0;31mTypeError\u001b[0m: 'complex' object is not iterable"
          ]
        }
      ]
    },
    {
      "cell_type": "markdown",
      "source": [
        ">boolean to set"
      ],
      "metadata": {
        "id": "Z9cngsjW4uOH"
      }
    },
    {
      "cell_type": "code",
      "source": [
        "set(True)"
      ],
      "metadata": {
        "colab": {
          "base_uri": "https://localhost:8080/",
          "height": 171
        },
        "id": "e0S7hfFGIAnL",
        "outputId": "fd26dc0c-5d5c-42d7-cfc4-ed9eaa3072cb"
      },
      "execution_count": 76,
      "outputs": [
        {
          "output_type": "error",
          "ename": "TypeError",
          "evalue": "ignored",
          "traceback": [
            "\u001b[0;31m---------------------------------------------------------------------------\u001b[0m",
            "\u001b[0;31mTypeError\u001b[0m                                 Traceback (most recent call last)",
            "\u001b[0;32m<ipython-input-76-a36fd2e17126>\u001b[0m in \u001b[0;36m<module>\u001b[0;34m()\u001b[0m\n\u001b[0;32m----> 1\u001b[0;31m \u001b[0mset\u001b[0m\u001b[0;34m(\u001b[0m\u001b[0;32mTrue\u001b[0m\u001b[0;34m)\u001b[0m\u001b[0;34m\u001b[0m\u001b[0;34m\u001b[0m\u001b[0m\n\u001b[0m",
            "\u001b[0;31mTypeError\u001b[0m: 'bool' object is not iterable"
          ]
        }
      ]
    },
    {
      "cell_type": "markdown",
      "source": [
        ">list to set"
      ],
      "metadata": {
        "id": "27bKcph64uOH"
      }
    },
    {
      "cell_type": "code",
      "source": [
        "set([2,9,1,1,10,9.8])"
      ],
      "metadata": {
        "colab": {
          "base_uri": "https://localhost:8080/"
        },
        "id": "6bTlDrLQIDqx",
        "outputId": "581d331e-97e5-4ed9-f481-5c8fa21ab9c2"
      },
      "execution_count": 77,
      "outputs": [
        {
          "output_type": "execute_result",
          "data": {
            "text/plain": [
              "{1, 2, 9, 9.8, 10}"
            ]
          },
          "metadata": {},
          "execution_count": 77
        }
      ]
    },
    {
      "cell_type": "markdown",
      "source": [
        ">tuple to set"
      ],
      "metadata": {
        "id": "W2GZ_aOz6JqO"
      }
    },
    {
      "cell_type": "code",
      "source": [
        "set((3,10,9,1,1,9))"
      ],
      "metadata": {
        "colab": {
          "base_uri": "https://localhost:8080/"
        },
        "id": "aB6hkMr4IUtM",
        "outputId": "452b1ec7-9bc2-4b71-ef19-29010e4dab1c"
      },
      "execution_count": 78,
      "outputs": [
        {
          "output_type": "execute_result",
          "data": {
            "text/plain": [
              "{1, 3, 9, 10}"
            ]
          },
          "metadata": {},
          "execution_count": 78
        }
      ]
    },
    {
      "cell_type": "markdown",
      "source": [
        ">dictionary to set"
      ],
      "metadata": {
        "id": "-2hevvm86M6M"
      }
    },
    {
      "cell_type": "code",
      "source": [
        "set({1:\"hey\",2:\"halo\"})"
      ],
      "metadata": {
        "colab": {
          "base_uri": "https://localhost:8080/"
        },
        "id": "ZheAeLFNIZmM",
        "outputId": "144f809d-86ca-47b1-db56-888df5d8ff3a"
      },
      "execution_count": 79,
      "outputs": [
        {
          "output_type": "execute_result",
          "data": {
            "text/plain": [
              "{1, 2}"
            ]
          },
          "metadata": {},
          "execution_count": 79
        }
      ]
    },
    {
      "cell_type": "markdown",
      "source": [
        "so, data type eligble for covert to set is:\n",
        "\n",
        "* string with each element in string is convert to each element that seperated by comma inside curl bracket with duplicated value discard so only unique value remain\n",
        "* list convert to set and its square bracket change to curl bracket with its duplicated value discard so only unique value remain\n",
        "* tuple convert to set and its parentheses change to curl bracketwith its duplicated value discard so only unique value remain\n",
        "* dictioary only key will be convert to element in set and value will be discard."
      ],
      "metadata": {
        "id": "SHhDFEWcInE0"
      }
    }
  ]
}