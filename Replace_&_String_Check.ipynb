{
  "nbformat": 4,
  "nbformat_minor": 0,
  "metadata": {
    "colab": {
      "name": "Replace & String Check.ipynb",
      "provenance": [],
      "collapsed_sections": []
    },
    "kernelspec": {
      "name": "python3",
      "display_name": "Python 3"
    },
    "language_info": {
      "name": "python"
    }
  },
  "cells": [
    {
      "cell_type": "markdown",
      "source": [
        "# **Transform Numbers, Characters, and Strings**"
      ],
      "metadata": {
        "id": "3Lc7eQjN-Ixn"
      }
    },
    {
      "cell_type": "markdown",
      "source": [
        "startswith()\n",
        "\n",
        "---\n",
        "\n",
        "A method that will return TRUE if the string starts with the specified prefix we want."
      ],
      "metadata": {
        "id": "-Zwc4svW-WgD"
      }
    },
    {
      "cell_type": "code",
      "execution_count": 1,
      "metadata": {
        "id": "6uZV9-0o99tO"
      },
      "outputs": [],
      "source": [
        "item = 'Caramel Macchiato'"
      ]
    },
    {
      "cell_type": "code",
      "source": [
        "item.startswith('Macchiato')"
      ],
      "metadata": {
        "colab": {
          "base_uri": "https://localhost:8080/"
        },
        "id": "sCt092I3_Ztx",
        "outputId": "8d800f75-5898-4e2e-bd49-07b554d4da45"
      },
      "execution_count": 2,
      "outputs": [
        {
          "output_type": "execute_result",
          "data": {
            "text/plain": [
              "False"
            ]
          },
          "metadata": {},
          "execution_count": 2
        }
      ]
    },
    {
      "cell_type": "code",
      "source": [
        "item.startswith('Caramel')"
      ],
      "metadata": {
        "colab": {
          "base_uri": "https://localhost:8080/"
        },
        "id": "gZAUDK8q_xWd",
        "outputId": "cc907db1-8757-4a8e-c966-ff54359d0d07"
      },
      "execution_count": 3,
      "outputs": [
        {
          "output_type": "execute_result",
          "data": {
            "text/plain": [
              "True"
            ]
          },
          "metadata": {},
          "execution_count": 3
        }
      ]
    },
    {
      "cell_type": "markdown",
      "source": [
        "endswith()\n",
        "\n",
        "\n",
        "---\n",
        "\n",
        "This method is the opposite of the startswith() method, this method will return TRUE if the string ends with a certain suffix we want, otherwise it will return false."
      ],
      "metadata": {
        "id": "U3djdO5AAKpy"
      }
    },
    {
      "cell_type": "code",
      "source": [
        "additional = 'Caramel Sauce'"
      ],
      "metadata": {
        "id": "zI5GQlTFAJYr"
      },
      "execution_count": 5,
      "outputs": []
    },
    {
      "cell_type": "code",
      "source": [
        "additional.endswith('Caramel')"
      ],
      "metadata": {
        "colab": {
          "base_uri": "https://localhost:8080/"
        },
        "id": "COP_vnMVA3n4",
        "outputId": "d24f6413-75f8-4a29-899c-4d1ab485416c"
      },
      "execution_count": 6,
      "outputs": [
        {
          "output_type": "execute_result",
          "data": {
            "text/plain": [
              "False"
            ]
          },
          "metadata": {},
          "execution_count": 6
        }
      ]
    },
    {
      "cell_type": "code",
      "source": [
        "additional.endswith('Sauce')"
      ],
      "metadata": {
        "colab": {
          "base_uri": "https://localhost:8080/"
        },
        "id": "l-ZuSDmABD3A",
        "outputId": "9bd50eba-b484-4990-c86f-eb35f58e7f7b"
      },
      "execution_count": 7,
      "outputs": [
        {
          "output_type": "execute_result",
          "data": {
            "text/plain": [
              "True"
            ]
          },
          "metadata": {},
          "execution_count": 7
        }
      ]
    },
    {
      "cell_type": "markdown",
      "source": [
        "# **Replace String**\n",
        "\n",
        "- Replace() method can return a new string in the condition that the substring has been replaced with the entered parameter\n",
        "- The third parameter in replace can be filled with the number of substrings you want to replace"
      ],
      "metadata": {
        "id": "duXigLk3BPA6"
      }
    },
    {
      "cell_type": "code",
      "source": [
        "a = 'I ordered the caramel macchiato with added whipped cream'"
      ],
      "metadata": {
        "id": "SFW1ikWJBHeM"
      },
      "execution_count": 8,
      "outputs": []
    },
    {
      "cell_type": "code",
      "source": [
        "a.replace('macchiato', 'frappucino')"
      ],
      "metadata": {
        "colab": {
          "base_uri": "https://localhost:8080/",
          "height": 35
        },
        "id": "16my0_wNCLbV",
        "outputId": "5fb9b7ba-9b40-4208-d878-8ac22af56564"
      },
      "execution_count": 9,
      "outputs": [
        {
          "output_type": "execute_result",
          "data": {
            "text/plain": [
              "'I ordered the caramel frappucino with added whipped cream'"
            ],
            "application/vnd.google.colaboratory.intrinsic+json": {
              "type": "string"
            }
          },
          "metadata": {},
          "execution_count": 9
        }
      ]
    },
    {
      "cell_type": "markdown",
      "source": [
        "# **String Check**\n",
        "In the string checking category we will check the boolean of a string."
      ],
      "metadata": {
        "id": "XK2ME3W9Du4z"
      }
    },
    {
      "cell_type": "markdown",
      "source": [
        "isupper()\n",
        "\n",
        "---\n",
        "\n",
        "A method that will return true if all letters in the string are uppercase, and will return false if there is only one lowercase letter in the string."
      ],
      "metadata": {
        "id": "t3IR0VIqEHtB"
      }
    },
    {
      "cell_type": "code",
      "source": [
        "item = 'caramel frappucino'"
      ],
      "metadata": {
        "id": "BhJqPz2-CZz6"
      },
      "execution_count": 10,
      "outputs": []
    },
    {
      "cell_type": "code",
      "source": [
        "item.isupper()"
      ],
      "metadata": {
        "colab": {
          "base_uri": "https://localhost:8080/"
        },
        "id": "B31grmRKEgjY",
        "outputId": "304e79ec-4b7c-45f1-c53d-7e215a138a4c"
      },
      "execution_count": 11,
      "outputs": [
        {
          "output_type": "execute_result",
          "data": {
            "text/plain": [
              "False"
            ]
          },
          "metadata": {},
          "execution_count": 11
        }
      ]
    },
    {
      "cell_type": "markdown",
      "source": [
        "islower()\n",
        "\n",
        "\n",
        "---\n",
        "\n",
        "A method that will return True if all letters in the string are lowercase, and will return false if there is only one uppercase letter in the string."
      ],
      "metadata": {
        "id": "1shSAxhUFrgj"
      }
    },
    {
      "cell_type": "code",
      "source": [
        "item.islower()"
      ],
      "metadata": {
        "colab": {
          "base_uri": "https://localhost:8080/"
        },
        "id": "M-n6jSBZEpoa",
        "outputId": "7c04d145-6d00-4403-9d08-9cb883804247"
      },
      "execution_count": 12,
      "outputs": [
        {
          "output_type": "execute_result",
          "data": {
            "text/plain": [
              "True"
            ]
          },
          "metadata": {},
          "execution_count": 12
        }
      ]
    },
    {
      "cell_type": "markdown",
      "source": [
        "We can perform operations on the result of the operation (Chain of method)"
      ],
      "metadata": {
        "id": "N--W3ceEG7gK"
      }
    },
    {
      "cell_type": "code",
      "source": [
        "print('caramel'.lower().upper())"
      ],
      "metadata": {
        "colab": {
          "base_uri": "https://localhost:8080/"
        },
        "id": "k_2h5k9HG0uU",
        "outputId": "b8563bc5-6865-43e1-8c24-e64aeef6f432"
      },
      "execution_count": 14,
      "outputs": [
        {
          "output_type": "stream",
          "name": "stdout",
          "text": [
            "CARAMEL\n"
          ]
        }
      ]
    },
    {
      "cell_type": "code",
      "source": [
        "print('caramel'.lower().upper().isupper())"
      ],
      "metadata": {
        "colab": {
          "base_uri": "https://localhost:8080/"
        },
        "id": "0H0sIgSnHKNA",
        "outputId": "bbf5e864-8ba2-4961-c520-c3e0cbf0f786"
      },
      "execution_count": 15,
      "outputs": [
        {
          "output_type": "stream",
          "name": "stdout",
          "text": [
            "True\n"
          ]
        }
      ]
    },
    {
      "cell_type": "markdown",
      "source": [
        "isalpha()\n",
        "\n",
        "---\n",
        "\n",
        "This method will return True if all characters in the string are letters of the alphabet, otherwise it will be False."
      ],
      "metadata": {
        "id": "OciZbBLmHbJB"
      }
    },
    {
      "cell_type": "code",
      "source": [
        "print('caramel'.isalpha())"
      ],
      "metadata": {
        "colab": {
          "base_uri": "https://localhost:8080/"
        },
        "id": "L_riUuACHTbC",
        "outputId": "27a3be15-0746-4709-f5bf-7b776ba72b84"
      },
      "execution_count": 16,
      "outputs": [
        {
          "output_type": "stream",
          "name": "stdout",
          "text": [
            "True\n"
          ]
        }
      ]
    },
    {
      "cell_type": "code",
      "source": [
        "print('car4mel'.isalpha())"
      ],
      "metadata": {
        "colab": {
          "base_uri": "https://localhost:8080/"
        },
        "id": "rnJJVttwHpk8",
        "outputId": "8460fed0-77d7-48fc-f5e4-76db1079be05"
      },
      "execution_count": 17,
      "outputs": [
        {
          "output_type": "stream",
          "name": "stdout",
          "text": [
            "False\n"
          ]
        }
      ]
    },
    {
      "cell_type": "markdown",
      "source": [
        "isalnum()\n",
        "\n",
        "---\n",
        "This method will return True if the characters in the string are alphanumeric. i.e. only letters or only numbers or contains both, otherwise it returns False.\n"
      ],
      "metadata": {
        "id": "kwa8mT0KHuKx"
      }
    },
    {
      "cell_type": "code",
      "source": [
        "print('caramel'.isalnum())"
      ],
      "metadata": {
        "colab": {
          "base_uri": "https://localhost:8080/"
        },
        "id": "09TrcEinHtD9",
        "outputId": "41de4cdc-9483-44c9-d624-181fade22aa2"
      },
      "execution_count": 18,
      "outputs": [
        {
          "output_type": "stream",
          "name": "stdout",
          "text": [
            "True\n"
          ]
        }
      ]
    },
    {
      "cell_type": "code",
      "source": [
        "print('car4mel'.isalnum())"
      ],
      "metadata": {
        "colab": {
          "base_uri": "https://localhost:8080/"
        },
        "id": "7y3U95E3IAz0",
        "outputId": "f2c13065-daa0-4942-8ca6-b6a953138770"
      },
      "execution_count": 19,
      "outputs": [
        {
          "output_type": "stream",
          "name": "stdout",
          "text": [
            "True\n"
          ]
        }
      ]
    },
    {
      "cell_type": "code",
      "source": [
        "print('caramel frappucino'.isalnum())"
      ],
      "metadata": {
        "colab": {
          "base_uri": "https://localhost:8080/"
        },
        "id": "goZK369-IFsX",
        "outputId": "3c19561a-1715-4a11-c78a-38a7c5935a15"
      },
      "execution_count": 20,
      "outputs": [
        {
          "output_type": "stream",
          "name": "stdout",
          "text": [
            "False\n"
          ]
        }
      ]
    },
    {
      "cell_type": "markdown",
      "source": [
        "isdecimal()\n",
        "\n",
        "\n",
        "---\n",
        "This method will return True if the character in the string contains only numbers/numerics. otherwise it will be False.\n"
      ],
      "metadata": {
        "id": "VVs0cxEZIQKk"
      }
    },
    {
      "cell_type": "code",
      "source": [
        "print('caramel'.isdecimal())"
      ],
      "metadata": {
        "colab": {
          "base_uri": "https://localhost:8080/"
        },
        "id": "TeXvnQXbIKRZ",
        "outputId": "cd913dc1-e7b4-46c5-ca5d-095c3ffc9af9"
      },
      "execution_count": 22,
      "outputs": [
        {
          "output_type": "stream",
          "name": "stdout",
          "text": [
            "False\n"
          ]
        }
      ]
    },
    {
      "cell_type": "code",
      "source": [
        "print('2000'.isdecimal())"
      ],
      "metadata": {
        "colab": {
          "base_uri": "https://localhost:8080/"
        },
        "id": "tXwwyrvAIU7h",
        "outputId": "2fe42974-5a3a-4273-83f0-1aa2919a0da5"
      },
      "execution_count": 24,
      "outputs": [
        {
          "output_type": "stream",
          "name": "stdout",
          "text": [
            "True\n"
          ]
        }
      ]
    },
    {
      "cell_type": "markdown",
      "source": [
        "isspace()\n",
        "\n",
        "---\n",
        "\n",
        "This method will return True if the string contains only whitespace characters, such as spaces, tabs, newlines, or other characters, otherwise it will return False."
      ],
      "metadata": {
        "id": "RDKsTiTiIfVc"
      }
    },
    {
      "cell_type": "code",
      "source": [
        "print('\\t'.isspace())"
      ],
      "metadata": {
        "colab": {
          "base_uri": "https://localhost:8080/"
        },
        "id": "oG_8e4WfIb9J",
        "outputId": "62efb054-bb63-4311-90b2-6ee00b055786"
      },
      "execution_count": 25,
      "outputs": [
        {
          "output_type": "stream",
          "name": "stdout",
          "text": [
            "True\n"
          ]
        }
      ]
    },
    {
      "cell_type": "code",
      "source": [
        "print(' '.isspace())"
      ],
      "metadata": {
        "colab": {
          "base_uri": "https://localhost:8080/"
        },
        "id": "gu7eq42iIvLm",
        "outputId": "615dd973-c12f-4353-d29f-d3ae395aef97"
      },
      "execution_count": 26,
      "outputs": [
        {
          "output_type": "stream",
          "name": "stdout",
          "text": [
            "True\n"
          ]
        }
      ]
    },
    {
      "cell_type": "code",
      "source": [
        "print('caramel'.isspace())"
      ],
      "metadata": {
        "colab": {
          "base_uri": "https://localhost:8080/"
        },
        "id": "IYpLUHLLIyAf",
        "outputId": "dd3ea37b-66c2-4235-f1e5-17c52a88dd9b"
      },
      "execution_count": 27,
      "outputs": [
        {
          "output_type": "stream",
          "name": "stdout",
          "text": [
            "False\n"
          ]
        }
      ]
    },
    {
      "cell_type": "markdown",
      "source": [
        "istitle()\n",
        "\n",
        "---\n",
        "\n",
        "This method will return True if the string contains a capital letter in each word and continues with lowercase letters so on. otherwise it will be False."
      ],
      "metadata": {
        "id": "iA6YFqkgI97F"
      }
    },
    {
      "cell_type": "code",
      "source": [
        "print('CARAMEL'.istitle())"
      ],
      "metadata": {
        "colab": {
          "base_uri": "https://localhost:8080/"
        },
        "id": "dHJERnbTI4LK",
        "outputId": "8eb8c591-d2bc-4055-c22a-6ccad66da2f7"
      },
      "execution_count": 28,
      "outputs": [
        {
          "output_type": "stream",
          "name": "stdout",
          "text": [
            "False\n"
          ]
        }
      ]
    },
    {
      "cell_type": "code",
      "source": [
        "print('Caramel'.istitle())"
      ],
      "metadata": {
        "colab": {
          "base_uri": "https://localhost:8080/"
        },
        "id": "dtTdzo16JF7l",
        "outputId": "96f90632-4df7-4587-c6b1-4a4b06d6f317"
      },
      "execution_count": 29,
      "outputs": [
        {
          "output_type": "stream",
          "name": "stdout",
          "text": [
            "True\n"
          ]
        }
      ]
    },
    {
      "cell_type": "code",
      "source": [
        ""
      ],
      "metadata": {
        "id": "7vc_5obVJJH_"
      },
      "execution_count": null,
      "outputs": []
    }
  ]
}